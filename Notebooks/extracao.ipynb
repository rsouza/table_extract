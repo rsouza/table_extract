{
 "cells": [
  {
   "cell_type": "code",
   "execution_count": 1,
   "metadata": {
    "tags": []
   },
   "outputs": [],
   "source": [
    "#!pip install -U textract\n",
    "#!pip install -U camelot-py[cv] tabula-py\n",
    "#!pip install tk"
   ]
  },
  {
   "cell_type": "code",
   "execution_count": 14,
   "metadata": {},
   "outputs": [],
   "source": [
    "import os\n",
    "import pandas as pd\n",
    "import camelot\n",
    "import tabula\n",
    "import textract"
   ]
  },
  {
   "cell_type": "code",
   "execution_count": 5,
   "metadata": {},
   "outputs": [
    {
     "name": "stdout",
     "output_type": "stream",
     "text": [
      "PyPDF2==3.0.1\n"
     ]
    }
   ],
   "source": [
    "import PyPDF2\n",
    "print(\"PyPDF2==\" + PyPDF2.__version__)"
   ]
  },
  {
   "cell_type": "code",
   "execution_count": 40,
   "metadata": {},
   "outputs": [
    {
     "data": {
      "text/plain": [
       "['ocorrencias 2019.pdf',\n",
       " 'Areas em conflito 2019.pdf',\n",
       " '.ipynb_checkpoints',\n",
       " 'ocorrencias 2018.pdf',\n",
       " 'Areas em conflito 2018.pdf']"
      ]
     },
     "execution_count": 40,
     "metadata": {},
     "output_type": "execute_result"
    }
   ],
   "source": [
    "os.listdir(\"../Data\")"
   ]
  },
  {
   "cell_type": "markdown",
   "metadata": {},
   "source": [
    "## Using [Camelot](https://github.com/camelot-dev/camelot)  \n",
    "\n",
    "https://stackoverflow.com/questions/74939758/camelot-deprecationerror-pdffilereader-is-deprecated  \n",
    "!pip install --upgrade PyPDF2 #==2.12.1  "
   ]
  },
  {
   "cell_type": "code",
   "execution_count": 19,
   "metadata": {},
   "outputs": [],
   "source": [
    "#tables = camelot.read_pdf(\"../Data/Areas em conflito 2019.pdf\")\n",
    "#print(\"Total tables extracted:\", tables.n)"
   ]
  },
  {
   "cell_type": "code",
   "execution_count": 12,
   "metadata": {},
   "outputs": [],
   "source": [
    "# print the first table as Pandas DataFrame\n",
    "#df = tables[0].df\n",
    "#df.head()"
   ]
  },
  {
   "cell_type": "code",
   "execution_count": 10,
   "metadata": {},
   "outputs": [],
   "source": [
    "#tables[0].to_csv(\"../Data/Areas em conflito 2018.csv\")"
   ]
  },
  {
   "cell_type": "markdown",
   "metadata": {},
   "source": [
    "## Using [Tabula](https://github.com/chezou/tabula-py)  "
   ]
  },
  {
   "cell_type": "code",
   "execution_count": 6,
   "metadata": {},
   "outputs": [],
   "source": [
    "# read PDF file\n",
    "tables2 = tabula.read_pdf(\"../Data/Areas em conflito 2019.pdf\", pages=\"all\", stream=True)"
   ]
  },
  {
   "cell_type": "code",
   "execution_count": 7,
   "metadata": {},
   "outputs": [
    {
     "data": {
      "text/html": [
       "<div>\n",
       "<style scoped>\n",
       "    .dataframe tbody tr th:only-of-type {\n",
       "        vertical-align: middle;\n",
       "    }\n",
       "\n",
       "    .dataframe tbody tr th {\n",
       "        vertical-align: top;\n",
       "    }\n",
       "\n",
       "    .dataframe thead th {\n",
       "        text-align: right;\n",
       "    }\n",
       "</style>\n",
       "<table border=\"1\" class=\"dataframe\">\n",
       "  <thead>\n",
       "    <tr style=\"text-align: right;\">\n",
       "      <th></th>\n",
       "      <th>Acre</th>\n",
       "      <th>Unnamed: 0</th>\n",
       "      <th>Unnamed: 1</th>\n",
       "      <th>Unnamed: 2</th>\n",
       "      <th>Unnamed: 3</th>\n",
       "      <th>Unnamed: 4</th>\n",
       "    </tr>\n",
       "  </thead>\n",
       "  <tbody>\n",
       "    <tr>\n",
       "      <th>0</th>\n",
       "      <td>NaN</td>\n",
       "      <td>Municípios</td>\n",
       "      <td>Nome do Conflito</td>\n",
       "      <td>Famílias</td>\n",
       "      <td>Área</td>\n",
       "      <td>NaN</td>\n",
       "    </tr>\n",
       "    <tr>\n",
       "      <th>1</th>\n",
       "      <td>NaN</td>\n",
       "      <td>Acrelândia</td>\n",
       "      <td>Fazenda Jéssica</td>\n",
       "      <td>72</td>\n",
       "      <td>NaN</td>\n",
       "      <td>NaN</td>\n",
       "    </tr>\n",
       "    <tr>\n",
       "      <th>2</th>\n",
       "      <td>NaN</td>\n",
       "      <td>NaN</td>\n",
       "      <td>Faz. do Senhor Viana/Ramal da</td>\n",
       "      <td>NaN</td>\n",
       "      <td>NaN</td>\n",
       "      <td>NaN</td>\n",
       "    </tr>\n",
       "    <tr>\n",
       "      <th>3</th>\n",
       "      <td>NaN</td>\n",
       "      <td>Acrelândia</td>\n",
       "      <td>7/Estrada AC-475/Gl. Porto Luiz</td>\n",
       "      <td>28</td>\n",
       "      <td>NaN</td>\n",
       "      <td>NaN</td>\n",
       "    </tr>\n",
       "    <tr>\n",
       "      <th>4</th>\n",
       "      <td>NaN</td>\n",
       "      <td>Acrelândia</td>\n",
       "      <td>Fazenda do Dr. Roberto</td>\n",
       "      <td>60</td>\n",
       "      <td>NaN</td>\n",
       "      <td>2000.0</td>\n",
       "    </tr>\n",
       "  </tbody>\n",
       "</table>\n",
       "</div>"
      ],
      "text/plain": [
       "   Acre  Unnamed: 0                       Unnamed: 1 Unnamed: 2 Unnamed: 3  \\\n",
       "0   NaN  Municípios                 Nome do Conflito   Famílias       Área   \n",
       "1   NaN  Acrelândia                  Fazenda Jéssica         72        NaN   \n",
       "2   NaN         NaN    Faz. do Senhor Viana/Ramal da        NaN        NaN   \n",
       "3   NaN  Acrelândia  7/Estrada AC-475/Gl. Porto Luiz         28        NaN   \n",
       "4   NaN  Acrelândia           Fazenda do Dr. Roberto         60        NaN   \n",
       "\n",
       "   Unnamed: 4  \n",
       "0         NaN  \n",
       "1         NaN  \n",
       "2         NaN  \n",
       "3         NaN  \n",
       "4      2000.0  "
      ]
     },
     "execution_count": 7,
     "metadata": {},
     "output_type": "execute_result"
    }
   ],
   "source": [
    "tables2[0].head()"
   ]
  },
  {
   "cell_type": "code",
   "execution_count": 8,
   "metadata": {},
   "outputs": [
    {
     "data": {
      "text/html": [
       "<div>\n",
       "<style scoped>\n",
       "    .dataframe tbody tr th:only-of-type {\n",
       "        vertical-align: middle;\n",
       "    }\n",
       "\n",
       "    .dataframe tbody tr th {\n",
       "        vertical-align: top;\n",
       "    }\n",
       "\n",
       "    .dataframe thead th {\n",
       "        text-align: right;\n",
       "    }\n",
       "</style>\n",
       "<table border=\"1\" class=\"dataframe\">\n",
       "  <thead>\n",
       "    <tr style=\"text-align: right;\">\n",
       "      <th></th>\n",
       "      <th>Unnamed: 0</th>\n",
       "      <th>Ramal do 37/Seringal Entre</th>\n",
       "      <th>Unnamed: 1</th>\n",
       "      <th>Unnamed: 2</th>\n",
       "    </tr>\n",
       "  </thead>\n",
       "  <tbody>\n",
       "    <tr>\n",
       "      <th>0</th>\n",
       "      <td>Boca do Acre/Rio</td>\n",
       "      <td>Rios/Recreio do Sto. Antônio/Gl.</td>\n",
       "      <td>NaN</td>\n",
       "      <td>NaN</td>\n",
       "    </tr>\n",
       "    <tr>\n",
       "      <th>1</th>\n",
       "      <td>Branco</td>\n",
       "      <td>Pauene</td>\n",
       "      <td>31.0</td>\n",
       "      <td>NaN</td>\n",
       "    </tr>\n",
       "    <tr>\n",
       "      <th>2</th>\n",
       "      <td>Boca do Acre/Rio</td>\n",
       "      <td>NaN</td>\n",
       "      <td>NaN</td>\n",
       "      <td>NaN</td>\n",
       "    </tr>\n",
       "    <tr>\n",
       "      <th>3</th>\n",
       "      <td>Branco</td>\n",
       "      <td>Seringal Cametá</td>\n",
       "      <td>30.0</td>\n",
       "      <td>NaN</td>\n",
       "    </tr>\n",
       "    <tr>\n",
       "      <th>4</th>\n",
       "      <td>Boca do Acre/Rio</td>\n",
       "      <td>NaN</td>\n",
       "      <td>NaN</td>\n",
       "      <td>NaN</td>\n",
       "    </tr>\n",
       "  </tbody>\n",
       "</table>\n",
       "</div>"
      ],
      "text/plain": [
       "         Unnamed: 0        Ramal do 37/Seringal Entre  Unnamed: 1  Unnamed: 2\n",
       "0  Boca do Acre/Rio  Rios/Recreio do Sto. Antônio/Gl.         NaN         NaN\n",
       "1            Branco                            Pauene        31.0         NaN\n",
       "2  Boca do Acre/Rio                               NaN         NaN         NaN\n",
       "3            Branco                   Seringal Cametá        30.0         NaN\n",
       "4  Boca do Acre/Rio                               NaN         NaN         NaN"
      ]
     },
     "execution_count": 8,
     "metadata": {},
     "output_type": "execute_result"
    }
   ],
   "source": [
    "tables2[1].head()"
   ]
  },
  {
   "cell_type": "code",
   "execution_count": 9,
   "metadata": {},
   "outputs": [
    {
     "data": {
      "text/html": [
       "<div>\n",
       "<style scoped>\n",
       "    .dataframe tbody tr th:only-of-type {\n",
       "        vertical-align: middle;\n",
       "    }\n",
       "\n",
       "    .dataframe tbody tr th {\n",
       "        vertical-align: top;\n",
       "    }\n",
       "\n",
       "    .dataframe thead th {\n",
       "        text-align: right;\n",
       "    }\n",
       "</style>\n",
       "<table border=\"1\" class=\"dataframe\">\n",
       "  <thead>\n",
       "    <tr style=\"text-align: right;\">\n",
       "      <th></th>\n",
       "      <th>Unnamed: 0</th>\n",
       "      <th>Rio Branco</th>\n",
       "      <th>Seringal São Francisco do Espalha</th>\n",
       "      <th>350</th>\n",
       "      <th>Unnamed: 1</th>\n",
       "      <th>Unnamed: 2</th>\n",
       "    </tr>\n",
       "  </thead>\n",
       "  <tbody>\n",
       "    <tr>\n",
       "      <th>0</th>\n",
       "      <td>NaN</td>\n",
       "      <td>Rio Branco</td>\n",
       "      <td>Seringal Macapá</td>\n",
       "      <td>300</td>\n",
       "      <td>NaN</td>\n",
       "      <td>NaN</td>\n",
       "    </tr>\n",
       "    <tr>\n",
       "      <th>1</th>\n",
       "      <td>NaN</td>\n",
       "      <td>NaN</td>\n",
       "      <td>Centro Huwã Karu Yuxibu/Com.</td>\n",
       "      <td>NaN</td>\n",
       "      <td>NaN</td>\n",
       "      <td>NaN</td>\n",
       "    </tr>\n",
       "    <tr>\n",
       "      <th>2</th>\n",
       "      <td>NaN</td>\n",
       "      <td>NaN</td>\n",
       "      <td>Indígena Huni Kuin/APA do</td>\n",
       "      <td>NaN</td>\n",
       "      <td>NaN</td>\n",
       "      <td>NaN</td>\n",
       "    </tr>\n",
       "    <tr>\n",
       "      <th>3</th>\n",
       "      <td>NaN</td>\n",
       "      <td>Rio Branco</td>\n",
       "      <td>Igarapé São Francisco</td>\n",
       "      <td>10</td>\n",
       "      <td>NaN</td>\n",
       "      <td>10.0</td>\n",
       "    </tr>\n",
       "    <tr>\n",
       "      <th>4</th>\n",
       "      <td>NaN</td>\n",
       "      <td>NaN</td>\n",
       "      <td>Seringal Novo Amparo/Ramal do</td>\n",
       "      <td>NaN</td>\n",
       "      <td>NaN</td>\n",
       "      <td>NaN</td>\n",
       "    </tr>\n",
       "  </tbody>\n",
       "</table>\n",
       "</div>"
      ],
      "text/plain": [
       "  Unnamed: 0  Rio Branco Seringal São Francisco do Espalha  350 Unnamed: 1  \\\n",
       "0        NaN  Rio Branco                   Seringal Macapá  300        NaN   \n",
       "1        NaN         NaN      Centro Huwã Karu Yuxibu/Com.  NaN        NaN   \n",
       "2        NaN         NaN         Indígena Huni Kuin/APA do  NaN        NaN   \n",
       "3        NaN  Rio Branco             Igarapé São Francisco   10        NaN   \n",
       "4        NaN         NaN     Seringal Novo Amparo/Ramal do  NaN        NaN   \n",
       "\n",
       "   Unnamed: 2  \n",
       "0         NaN  \n",
       "1         NaN  \n",
       "2         NaN  \n",
       "3        10.0  \n",
       "4         NaN  "
      ]
     },
     "execution_count": 9,
     "metadata": {},
     "output_type": "execute_result"
    }
   ],
   "source": [
    "tables2[2].head()"
   ]
  },
  {
   "cell_type": "markdown",
   "metadata": {},
   "source": [
    "## Using [Textract](https://textract.readthedocs.io/en/stable/)  "
   ]
  },
  {
   "cell_type": "code",
   "execution_count": 38,
   "metadata": {},
   "outputs": [],
   "source": [
    "text = textract.process(\"../Data/Areas em conflito 2019.pdf\", input_encoding=\"utf8\", output_encoding=\"utf8\")"
   ]
  },
  {
   "cell_type": "code",
   "execution_count": 39,
   "metadata": {},
   "outputs": [
    {
     "name": "stdout",
     "output_type": "stream",
     "text": [
      "b'\\xc3\\x81reas em Conflito Brasil 2019\\nAcre\\nMunic\\xc3\\xadpios\\nAcrel\\xc3\\xa2ndia\\n\\nAcrel\\xc3\\xa2ndia\\nAcrel\\xc3\\xa2ndia\\nAcrel\\xc3\\xa2ndia\\nAcrel\\xc3\\xa2ndia\\nAcrel\\xc3\\xa2ndia\\nAcrel\\xc3\\xa2ndia\\nAcrel\\xc3\\xa2ndia\\nAcrel\\xc3\\xa2ndia\\nAcrel\\xc3\\xa2ndia\\nAcrel\\xc3\\xa2ndia\\nAcrel\\xc3\\xa2ndia\\nAcrel\\xc3\\xa2ndia\\nAcrel\\xc3\\xa2ndia\\nAcrel\\xc3\\xa2ndia\\nBoca do Acre/Rio\\nBranco\\nBoca do Acre/Rio\\nBranco\\nBoca do Acre/Rio\\nBranco\\nBoca do Acre/Rio\\nBranco\\nBoca do Acre/Rio\\nBranco\\nBoca do Acre/Rio\\nBranco\\nBoca do Acre/Rio\\nBranco\\nBoca do Acre/Rio\\nBranco\\nBoca do Acre/Rio\\nBranco\\nBoca do Acre/Rio\\nBranco\\nBoca do Acre/Rio\\nBranco\\nBoca do Acre/Rio\\nBranco\\nBoca do Acre/Rio\\nBranco\\nBoca do Acre/Rio\\nBranco\\n\\nNome do Conflito\\nFazenda J\\xc3\\xa9ssica\\nFaz. do Senhor Viana/Ramal da\\n7/Estrada AC-475/Gl. Porto Luiz\\nFazenda do Dr. Roberto\\nFaz. da Rondobr\\xc3\\xa1s/BR-364/Km\\n105/Gleba Porto Luiz\\nFaz. do Z\\xc3\\xa9 Capim/BR-364/Km\\n105\\nFaz. Gra\\xc3\\xbana/BR-364\\nFazenda Cana\\xc3\\xa3\\nSeringal Fortaleza\\nRamal Campo Novo\\nSeringal Porto Dias\\nOcupa\\xc3\\xa7\\xc3\\xa3o do Baiano\\nFazenda Z\\xc3\\xa9 Ju\\xc3\\xadna\\nFaz. Girassol/Ocup. do Brito\\n\\nFam\\xc3\\xadlias \\xc3\\x81rea\\n72\\n\\n28\\n60\\n\\n2000\\n\\n12\\n\\n14000\\n\\n40\\n80\\n72\\n60\\n45\\n80\\n38\\n50\\n14\\n\\n1800\\n2000\\n\\nSeringal Triunfo/Ramal do Pel\\xc3\\xa9\\nFaz. Sar\\xc3\\xa1/Gleba Porto Luiz\\n\\n129\\n30\\n\\n5200\\n\\nSeringal Perseveran\\xc3\\xa7a\\n\\n25\\n\\nSeringal Pirapora\\n\\n322\\n\\n5000\\n\\nSeringal Macap\\xc3\\xa1\\nSeringal Bom Lugar/Com. Nova\\nVida\\nSeringal Novo Axioma\\nReden\\xc3\\xa7\\xc3\\xa3o/Ocup. do Diva\\n\\n114\\n\\n5302\\n\\n69\\n\\n56000\\n\\n48\\n\\n47000\\n\\nSeringal Andara\\xc3\\xad\\n\\n120\\n\\nSeringal Igarap\\xc3\\xa9 Grande\\n\\n26\\n\\nSeringal Bananeira\\nSeringal Entre Rios/Ramal S\\xc3\\xa3o\\nFrancisco/Faz. do Km 60/Faz.\\nSavana\\n\\n26\\n\\nSeringal Cajueiro\\n\\n25\\n\\nFaz. Uni\\xc3\\xa3o/Cruzeirinho\\n\\n214\\n\\n2000\\n\\nSeringal Entre Rios/Ramal do 52\\n\\n39\\n\\n122000\\n\\nSeringal Europa\\n\\n30\\n\\nSeringal Entre Rios/Ramal do 64\\n\\n15\\n\\n380\\n\\n28\\n\\n\\x0cBoca do Acre/Rio\\nBranco\\nBoca do Acre/Rio\\nBranco\\nBoca do Acre/Rio\\nBranco\\nBoca do Acre/Rio\\nBranco\\nBoca do Acre/Rio\\nBranco\\nBoca do Acre/Rio\\nBranco\\nBoca do Acre/Rio\\nBranco\\nBoca do Acre/Rio\\nBranco\\nBoca do Acre/Rio\\nBranco\\nBoca do Acre/Rio\\nBranco\\nBoca do Acre/Rio\\nBranco\\nBoca do Acre/Rio\\nBranco\\nBujari\\nBujari\\nCruzeiro do Sul\\nCruzeiro do Sul\\nCruzeiro do Sul\\n\\nFeij\\xc3\\xb3\\nManoel Urbano\\nManoel Urbano\\nManoel Urbano\\nManoel Urbano\\nManoel Urbano\\nManoel Urbano\\nManoel Urbano\\nManoel Urbano\\nManoel Urbano\\nPl\\xc3\\xa1cido de Castro\\nPorto Walter\\nRio Branco\\nRio Branco\\nRio Branco\\nRio Branco\\nRio Branco\\n\\nRamal do 37/Seringal Entre\\nRios/Recreio do Sto. Ant\\xc3\\xb4nio/Gl.\\nPauene\\n\\n31\\n\\nSeringal Camet\\xc3\\xa1\\n\\n30\\n\\nFaz. Palotina/Seringal Novo Natal\\n\\n160\\n\\nRamal do Garrafa\\nGl. Novo Axioma\\nReden\\xc3\\xa7\\xc3\\xa3o/Ramal do Km 104\\n\\n60\\n33\\n\\nGl. Novo Axioma Reden\\xc3\\xa7\\xc3\\xa3o/Km\\n90/Ramal Sta. Helena\\nOcup. do Vinha/Ramal S\\xc3\\xa3o\\nFrancisco/Km 60\\nSeringal Bom Lugar/Ramal do\\nEspig\\xc3\\xa3o\\n\\n300\\n\\nSeringal Porto Central\\n\\n300\\n\\n13600\\n\\nSeringal Cod\\xc3\\xb3/PAE Antimary\\n\\n23\\n\\n260000\\n\\nGleba Francisco Sevalha\\n\\n180\\n\\n500000\\n\\nP. A. Monte\\nFaz. Canary/Ramal do Cacau\\nSeringal Merc\\xc3\\xaas\\nSeringal Valpara\\xc3\\xadso\\nComunidade Soc\\xc3\\xb3\\nSeringal Russas\\n\\n700\\n400\\n300\\n130\\n14\\n80\\n\\nT. I. Katukina/Kaxinawa/Aldeias\\nPared\\xc3\\xa3o/Paro\\xc3\\xa1/Pupunha/Belo\\nMonte\\nSeringal Novo Destino\\nSeringal Itatinga\\nSeringal Afluente\\nSeringal Areis\\nSeringal Porto Central\\nSeringal Barcelona\\nSeringal S\\xc3\\xa3o Salvador\\nSeringal Santa Cruz\\nSeringal Mercejana\\nFaz. Luiz Gomes/Seringal\\nCapatar\\xc3\\xa1\\nRamal do Besouro/Seringal\\nNazar\\xc3\\xa9\\nSeringal Cachoeira\\nSeringal Humait\\xc3\\xa1\\nSeringal S\\xc3\\xa3o Bernardo\\nSeringal Belo Horizonte\\nSeringal S\\xc3\\xa3o Francisco do\\nIracema\\n\\n28\\n\\n1350\\n\\n25\\n\\n15800\\n\\n1500\\n\\n314\\n70\\n21\\n20\\n101\\n18\\n15\\n15\\n20\\n15\\n\\n23474\\n9600\\n17000\\n\\n80\\n\\n6000\\n\\n100\\n7\\n20\\n22\\n100\\n300\\n\\n15000\\n\\n10780\\n17000\\n\\n\\x0cRio Branco\\nRio Branco\\n\\nRio Branco\\nSena Madureira\\nSena Madureira\\n\\nSena Madureira\\nSena Madureira\\n\\nSeringal S\\xc3\\xa3o Francisco do Espalha\\nSeringal Macap\\xc3\\xa1\\nCentro Huw\\xc3\\xa3 Karu Yuxibu/Com.\\nInd\\xc3\\xadgena Huni Kuin/APA do\\nIgarap\\xc3\\xa9 S\\xc3\\xa3o Francisco\\nSeringal Novo Amparo/Ramal do\\n15\\nSeringal Novo Amparo/Ramal do\\n25\\nSeringal Novo Amparo/Ramal do\\n38/Ramal do Ouro\\nSeringal Novo Amparo/Ramal do\\n17\\n\\nSenador Guiomard/\\nCapixaba\\nXapuri\\nXapuri\\nXapuri\\nSubtotal = 74\\n\\nSeringal Capatar\\xc3\\xa1\\nSeringal Nova Esperan\\xc3\\xa7a\\nSeringal Lua Cheia\\nSeringal S\\xc3\\xa3o Pedro\\n\\nMunic\\xc3\\xadpios\\nFeliz Deserto\\n\\nNome do Conflito\\nFazenda Mangabeira\\n\\nFlexeiras\\nIbateguara\\n\\nAssentamento Sebasti\\xc3\\xa3o Gomes\\nFazenda Catangy\\n\\n350\\n300\\n\\n10\\n\\n10\\n\\n15\\n15\\n\\n15\\n15\\n\\n97\\n19\\n15\\n15\\n6809\\n\\n44420\\n\\n1198216\\n\\nAlagoas\\n\\nJaparatinga\\nMaragogi\\nMaragogi/ Porto\\nCalvo\\nMarechal Deodoro\\nMurici\\nMurici\\nPorto Calvo\\nPorto Calvo\\n\\nS\\xc3\\xadtio Copaoba/CC\\nEmpreendimentos Imobili\\xc3\\xa1rios\\nFazenda Car\\xc3\\xa3o\\nFaz. Junco/Us. Central Barreiros\\n\\xc3\\x81rea da Carhp/Acamp. Boca da\\nCaixa\\nFazenda Bota Velha\\nFaz. Tabocal/Duarte/Ilha\\nFazenda Boa Esperan\\xc3\\xa7a\\nFazenda Mata Redonda\\n\\nS\\xc3\\xa3o Miguel dos\\nMilagres\\nS\\xc3\\xa3o Miguel dos\\nMilagres\\nTaquarana\\n\\nFazenda Itabatinga/Povoado\\nPorto da Rua/Acamp. Cabanos\\n\\nUni\\xc3\\xa3o dos Palmares\\nSubtotal = 15\\n\\nUsina Laginha\\n\\nMunic\\xc3\\xadpios\\n\\nNome do Conflito\\n\\nFam\\xc3\\xadlias \\xc3\\x81rea\\n\\n114\\n\\n1050\\n\\n15\\n250\\n\\n1200\\n\\n30\\n100\\n25\\n87\\n102\\n\\n130\\n600\\n600\\n\\n80\\n\\nS\\xc3\\xadtio Dona Bela\\nFazenda Andre Quice\\n\\n803\\n\\nAmazonas\\nFam\\xc3\\xadlias \\xc3\\x81rea\\n\\n3580\\n\\n\\x0cAutazes\\n\\nAutazes\\nAutazes\\nBoca do Acre\\nBoca do Acre\\n\\nCanutama\\nCanutama\\nCanutama\\nCanutama\\nCareiro\\nIranduba\\nIranduba/\\nManacapuru/ Novo\\nAir\\xc3\\xa3o\\n\\nItacoatiara\\nJapur\\xc3\\xa1/ Nova Olinda\\ndo Norte\\nJuta\\xc3\\xad/ Atalaia do\\nNorte/ Benjamin\\nConstant/ S\\xc3\\xa3o Paulo\\nde Oliven\\xc3\\xa7a\\nL\\xc3\\xa1brea\\nL\\xc3\\xa1brea\\nL\\xc3\\xa1brea\\nManacapuru\\nManaus\\nManaus\\nManaus\\nManaus\\nManaus\\nManaus\\n\\nMau\\xc3\\xa9s\\nMau\\xc3\\xa9s/ Parintins/\\nBarreirinha\\n\\nT. I. Jauary\\nT. I. Murutinga/Tracaj\\xc3\\xa1/Aldeia\\nTerra Preta\\nT. I. Patau\\xc3\\xa1\\nResex Arapixi\\nT. I. Jaminawa do\\nCaiapuc\\xc3\\xa1/Aldeia Sama\\xc3\\xbama\\nKm 46/BR-319/P. A. S\\xc3\\xa3o\\nFrancisco/Linha 4/Vicinal Caju\\xc3\\xad\\nResex/Com. Nova Vista\\nFloresta Estadual/Com. Vila\\nSouza\\nFaz. Ja\\xc3\\xb3/Km 32/BR-319\\nT. I. Lago do Piranha\\nGleba Igarap\\xc3\\xa9 do Bode\\n\\nComunidade Grande Vit\\xc3\\xb3ria\\nCom. Rondon I e II/N. Sra.\\nAparecida do Jaman\\xc3\\xa3/Jesus \\xc3\\xa9\\nMeu Rei\\nAldeia Nova Cana\\xc3\\xa3/T. I. Paran\\xc3\\xa1\\ndo Bo\\xc3\\xa1-Bo\\xc3\\xa1\\n\\nT. I. Vale do Javari\\nCom. Capia\\xc3\\xa3/Capi\\xc3\\xa3\\nRamal Tauaruh\\xc3\\xa3\\nSeringal S\\xc3\\xa3o Domingos\\nOcupa\\xc3\\xa7\\xc3\\xa3o Lula Livre\\nUber\\xc3\\xaa/Ramal do Brasileirinho\\nComunidade Urucaia\\nCemit\\xc3\\xa9rio dos \\xc3\\x8dndios\\nComunidade Nova Jerusal\\xc3\\xa9m\\nAcamp. dos Povos Ind\\xc3\\xadgenas\\nRemanescentes de Tarum\\xc3\\xa3\\nCom. do Km 13/Estrada Manoel\\nUrbano/Ramal 13\\nCom. Ind\\xc3\\xadgenas e\\nRibeirinhas/Assoc. dos\\nProdutores da Regi\\xc3\\xa3o de Mau\\xc3\\xa9s\\n\\n315\\n\\n24831\\n\\n383\\n47\\n300\\n\\n13286\\n765285\\n133637\\n\\n65\\n15\\n17\\n50\\n120\\n\\n31\\n\\n600\\n\\n5142\\n\\n30\\n\\n1000\\n150\\n40\\n140\\n120\\n\\n8527000\\n\\n36\\n\\n600\\n\\n22000\\n\\n380\\n700\\n200\\n148\\n\\n150\\n\\nT. I. Andir\\xc3\\xa1-Marau\\nCom. Terra Santa//Km 152/BRPresidente Figueiredo 174\\n\\n3337\\n\\nPresidente Figueiredo Comunidade Boa Esperan\\xc3\\xa7a\\n\\n374\\n\\nPresidente Figueiredo Comunidade Jardim Floresta\\n\\n200\\n\\n34\\n\\n788000\\n\\n\\x0cCom. Nova Floresta/BR-174/Km\\nPresidente Figueiredo 126\\nCom. Nova Uni\\xc3\\xa3o II/BR-174/Km\\nPresidente Figueiredo 135\\n\\n84\\n60\\n\\nPresidente Figueiredo Com. Castanhal/BR-174/Km 135\\n\\n115\\n\\nPresidente Figueiredo Com. Canastra/BR-174/Km 137\\nPresidente\\nFigueiredo/\\nItacoatiara/ Novo\\nT. I. Waimiri Atroari/Linh\\xc3\\xa3o de\\nAir\\xc3\\xa3o/ Urucar\\xc3\\xa1\\nTucuru\\xc3\\xad/PAC\\nComunidade Bons Amigos 1, 2 e\\nRio Preto da Eva\\n3\\nRio Preto da Eva\\nCom. Ifibram/Km 84\\n\\xc3\\x8dndios Yanomami/Aldeias\\nMaturac\\xc3\\xa1 e\\nS\\xc3\\xa3o Gabriel da\\nAriabu/Contamina\\xc3\\xa7\\xc3\\xa3o por\\nCachoeira\\nMerc\\xc3\\xbario\\nS\\xc3\\xa3o Gabriel da\\nCachoeira\\nT. I. Alto Rio Negro\\nS\\xc3\\xa3o Gabriel da\\nCachoeira/ Santa\\nIsabel do Rio Negro/\\nJapur\\xc3\\xa1\\nT. I. M\\xc3\\xa9dio Rio Negro I\\nSubtotal = 40\\n\\n39\\n\\n350\\n\\n2585910\\n\\n111\\n38\\n\\n1100\\n\\n497\\n11376\\n\\n1776\\n12867467\\n\\nAmap\\xc3\\xa1\\nMunic\\xc3\\xadpios\\nAmap\\xc3\\xa1\\nAmap\\xc3\\xa1\\n\\nFam\\xc3\\xadlias \\xc3\\x81rea\\n15\\n10\\n\\n500\\n1089\\n\\n20\\n\\n45000\\n\\n40\\n30\\n1\\n30\\n30\\n15\\n34\\n25\\n\\n2500\\n14400\\n37511\\n16000\\n30000\\n1000\\n3000\\n900\\n\\n4\\n1\\n15 635,3\\n\\n5000\\n100\\n\\n20\\n\\n2000\\n\\nMacap\\xc3\\xa1\\n\\nNome do Conflito\\nFaz. Itapo\\xc3\\xa3/Amcel/Piqui\\xc3\\xa1\\nFazenda Esp\\xc3\\xadrito Santo\\nCom. ao Longo do Rio\\nLaranjeiras/Amap\\xc3\\xa1\\nGrande/Piqui\\xc3\\xa1\\nBase A\\xc3\\xa9rea/Localidade Pr\\xc3\\xb3xima\\nao Cruzeiro\\nS\\xc3\\xa3o Roque/Redondo\\nFaz. Minerva/CAPAB\\nCunani e 7 Ilhas\\nJuncal\\nRamal Ilha Grande\\nAlta Floresta/Gurupora\\nIgarap\\xc3\\xa9 do Palha/Amcel\\nAntiga Faz.\\nZebul\\xc3\\xa2ndia/Campinho\\nTerra Preta\\nJupati\\nCom. Quil. S\\xc3\\xa3o Miguel do\\nMacacoari\\n\\xc3\\x81reas em Itaubal/Agroneg\\xc3\\xb3cio\\nSinal Verde/Boa Vista da\\nPedreira\\n\\n20\\n\\n700\\n\\nMacap\\xc3\\xa1\\n\\nAbacate do Pedreira/Rio Fugido\\n\\n20\\n\\n500\\n\\nAmap\\xc3\\xa1\\nAmap\\xc3\\xa1\\nAmap\\xc3\\xa1\\nAmap\\xc3\\xa1\\nCal\\xc3\\xa7oene\\nCal\\xc3\\xa7oene\\nCal\\xc3\\xa7oene\\nCutias do Araguari\\nFerreira Gomes\\nFerreira Gomes\\nFerreira Gomes\\nItaubal do Piririm\\nItaubal do Piririm\\n\\n\\x0cMacap\\xc3\\xa1\\n\\nMacap\\xc3\\xa1\\nMacap\\xc3\\xa1\\nMacap\\xc3\\xa1\\nMacap\\xc3\\xa1\\nMacap\\xc3\\xa1\\nMacap\\xc3\\xa1\\n\\nAssent. Osmar Ribeiro/Ramal do\\nAbacate/Km 34/BR-156\\nSanta Luzia/S\\xc3\\xa3o Tom\\xc3\\xa9/Rio\\nPacu\\xc3\\xad/10 Comunidades Pr\\xc3\\xb3ximas\\nao Rio Pacu\\xc3\\xad\\nAriri\\nPiririm/Pacu\\xc3\\xad\\nQuilombo Concei\\xc3\\xa7\\xc3\\xa3o do\\nMacacoari\\nSanto Ant\\xc3\\xb4nio da Pedreira\\nBailique-Foz\\nAssentamento Pancada do\\nCamaipi\\n\\nMazag\\xc3\\xa3o\\nPedra Branca do\\nAmapari/ Laranjal do\\nJari\\nT. I. Wai\\xc3\\xa3pi/Aldeia Mariry\\nPorto Grande\\nKm 117 da EFA\\nPorto Grande\\n\\xc3\\x81rea da Codepa/Km 92\\nS\\xc3\\xadtio S\\xc3\\xa3o Francisco/Igarap\\xc3\\xa9\\nPorto Grande\\nGravata\\nPorto Grande\\n\\xc3\\x81rea no Km 54 da BR-156\\nPracu\\xc3\\xbaba\\nRetiro Boa Esperan\\xc3\\xa7a\\nSantana\\nIlha Santana\\nSantana\\nAssentamento Anauerapucu\\nSerra do Navio\\nRamal da Raquel\\nTartarugalzinho\\nFaz. Novo Horizonte\\nRamal Nova Cana\\xc3\\xa3/Col\\xc3\\xb4nia de\\nItaubal/Faz. Santa\\nIsabel/Amcel/Pedreiro/Boca do\\nTartarugalzinho\\nBra\\xc3\\xa7o\\nUapezal/Ponto do Socorro e\\nTartarugalzinho\\nVareiro\\nTartarugalzinho\\nCampo Belo\\n\\xc3\\x81rea na Margem Direita do Rio\\nTartarugalzinho\\nItaubal/S\\xc3\\xa3o Raimundo\\nTartarugalzinho\\nReden\\xc3\\xa7\\xc3\\xa3o do Araguari\\nComunidade ao Longo do Rio\\nTartarugalzinho\\nAporema\\nSubtotal = 41\\n\\n80\\n\\n3000\\n\\n200\\n20\\n30\\n\\n3000\\n3000\\n1500\\n\\n20\\n30\\n20\\n\\n8475,47\\n800\\n2800\\n\\n400\\n\\n300\\n\\n300\\n30\\n22\\n\\n607000\\n2000\\n2700\\n\\n2\\n30\\n2\\n20\\n1\\n20\\n5\\n\\n150\\n200\\n1000\\n20\\n100\\n2000\\n10744\\n\\n27\\n\\n3000\\n\\n70\\n1\\n\\n2761\\n1200\\n\\n2\\n5\\n\\n100\\n1192\\n\\n1\\n1668\\n\\n540\\n818418\\n\\nBahia\\nMunic\\xc3\\xadpios\\nAnt\\xc3\\xb4nio Gon\\xc3\\xa7alves\\nAnt\\xc3\\xb4nio Gon\\xc3\\xa7alves\\nAnt\\xc3\\xb4nio Gon\\xc3\\xa7alves\\nAnt\\xc3\\xb4nio Gon\\xc3\\xa7alves\\nAnt\\xc3\\xb4nio Gon\\xc3\\xa7alves\\nAnt\\xc3\\xb4nio Gon\\xc3\\xa7alves\\nApuarema\\n\\nNome do Conflito\\nMucambo\\nCom. Brej\\xc3\\xa3o da Grota\\nCom. Baixinha\\nCom. Olho d\\' \\xc3\\x81gua\\nCom. Lagoa Grande\\nCom. Salgada\\nAcamp. Belo Monte/Faz. Bom\\nPrazer\\n\\nFam\\xc3\\xadlias \\xc3\\x81rea\\n\\n30\\n\\n\\x0cBaian\\xc3\\xb3polis/ Santana/\\nSerra Dourada/\\nLarga da Porteira Santa Cruz/Luiz\\nTabocas do Brejo\\nMartins/Torrada/Cachoeira/Cerc\\nVelho\\nado\\nBarra\\nCom. Quilombola Igarit\\xc3\\xa9\\nBarra\\nFazenda Encosta\\n\\nBarra\\nBarra\\nBelmonte\\n\\nCom.\\nQueimadas/Gavi\\xc3\\xa3o/Cachoeira\\nCom. Brejo da Cachoeira\\nFazenda Jaguar Eireli\\n\\n92\\n500\\n37\\n\\n56\\n80\\n51\\n\\nBom Jesus da Lapa\\n\\nFaz. Santa F\\xc3\\xa9/Itapiroca/Acamp.\\nM\\xc3\\xa3e Terra\\nFazenda Bela Vista\\nCom. Quil. Ara\\xc3\\xa7\\xc3\\xa1-Volta/Fiol\\nCom. Quilombola\\nBebedouro/Fiol\\n\\nBrotas de Maca\\xc3\\xbabas\\n\\nCom. Mata de Eufr\\xc3\\xa1sio\\n\\n15\\n\\nBrotas de Maca\\xc3\\xbabas\\n\\nComunidade Mangabeira\\n\\n50\\n\\nCachoeira\\nCachoeira\\n\\nCairu\\nCairu\\n\\nTerreiro Icimim\\xc3\\xb3/Terra Vermelha\\nQuilombo Caimbogo Velho\\nCom. Quilombola Tabuleiro da\\nVit\\xc3\\xb3ria\\nCom. Curral Velho/Fiol\\nCom. Rio Grande/Fiol\\nCom. Invernada/Fiol\\nCom. Cova da On\\xc3\\xa7a/S\\xc3\\xa3o\\nSebasti\\xc3\\xa3o/Ilha de\\nBoipeba/Vazamento de \\xc3\\x93leo\\nMorer\\xc3\\xa9/Ilha de Boipeba\\n\\nCairu\\n\\nVelha Boipeba/Ilha de Boipeba\\n\\nCairu\\n\\nS\\xc3\\xa3o Francisco/Ilha de Boipeba\\n\\nCairu\\nCamacan\\nCamamu\\nCampo Alegre de\\nLourdes\\nCampo Formoso\\nCampo Formoso\\nCampo Formoso\\nCampo Formoso\\n\\nMonte Alegre/Ilha de Boipeba\\nFaz. Guanabara/Com.Terra\\nSagrada\\nFazenda S\\xc3\\xa3o Cosme\\n8 Comunidades de Angico dos\\nDias\\nCom. Santo Ant\\xc3\\xb4nio\\nComunidade Barreiros\\nComunidade Papagaio\\nComunidade Ilhote\\n\\nCampo Formoso\\nCampo Formoso\\nCampo Formoso\\n\\nComunidade Queimada da Lage\\nCom. Lagoa do Mato\\nComunidade Tanque Novo\\n\\nBoa Vista do Tupim\\nBoa Vista do Tupim\\nBom Jesus da Lapa\\n\\nCachoeira\\nCaetit\\xc3\\xa9\\nCaetit\\xc3\\xa9/ Guanambi\\nCaetit\\xc3\\xa9/ Guanambi\\n\\n18000\\n19000\\n3700\\n\\n160\\n70\\n152\\n\\n3700\\n\\n55\\n\\n5000\\n\\n5000\\n\\n200\\n\\n80\\n\\n190\\n\\n25\\n150\\n400\\n80\\n\\n380\\n160\\n\\n\\x0cCasa Nova\\n\\nCom. Alagadi\\xc3\\xa7o de Borda da\\nMata\\nComunidade Alva\\xc3\\xa7\\xc3\\xa3\\nCom. de Areia\\nGrande/Salininha/Riacho\\nGrande/Salina da\\nBrinca/Jurema/Melancia/Salininh\\na\\n\\nCasa Nova\\n\\nRiacho Grande/Ladeira Grande\\n\\nCasa Nova\\n\\nPer\\xc3\\xadmetro Irrigado Senador Nilo\\nCoelho/Acamp. Irani de Souza\\n\\nCampo Formoso\\nCampo Formoso\\n\\nPer\\xc3\\xadmetro Irrigado Senador Nilo\\nCasa Nova\\nCoelho/Acamp. Irm\\xc3\\xa3 Dorothy\\nCasa Nova\\nComunidade de Cacimbas\\nCordeiros\\nComunidade Renegada\\nCorrentina\\nComunidade Catol\\xc3\\xa9s\\nFecho de Pasto Cap\\xc3\\xa3o do\\nCorrentina\\nModesto\\nCorrentina\\nComunidade Brejo Verde\\nEun\\xc3\\xa1polis\\nFazenda Primavera\\nFaz. Mutum Conjunto\\nEun\\xc3\\xa1polis/ Belmonte Cedro/S\\xc3\\xadtio Esperan\\xc3\\xa7a\\nFeira de Santana\\nFaz. Areias/Acamp. Cajueiro\\nCom. Cachoeira/Condom\\xc3\\xadnio\\nFormosa do Rio Preto Estrondo\\nCom.\\nCacimbinha/Arroz/Condom\\xc3\\xadnio\\nFormosa do Rio Preto Estrondo\\nCom. Baixa Funda/Condom\\xc3\\xadnio\\nFormosa do Rio Preto Estrondo\\nCom. Gatos/Condom\\xc3\\xadnio\\nFormosa do Rio Preto Estrondo\\nCom.\\nAldeia/Mutamba/Condom\\xc3\\xadnio\\nFormosa do Rio Preto Estrondo\\nCom. Brejo do Tatu/Condom\\xc3\\xadnio\\nFormosa do Rio Preto Estrondo\\nCom. Marinheiro/Condom\\xc3\\xadnio\\nFormosa do Rio Preto Estrondo\\nCom. Descanso/Mato do\\nMeio/Retiro/Sacatruz/S\\xc3\\xa3o\\nGon\\xc3\\xa7alo/Gentio das\\nGentio do Ouro\\nChagas/Silv\\xc3\\xa9rio\\nMorada dos P\\xc3\\xa1ssaros/Regi\\xc3\\xa3o do\\nIlh\\xc3\\xa9us\\nParque de Oliven\\xc3\\xa7a\\nIlh\\xc3\\xa9us/ Una/\\nSerra do Padeiro/Povo\\nBuerarema\\nTupinamb\\xc3\\xa1\\nIramaia\\nFazenda Iracema\\nItaberaba/ Ruy\\nFaz. Santa Maria/Acamp. Olga\\nBarbosa\\nBen\\xc3\\xa1rio\\n\\n1000\\n\\n491000\\n\\n175\\n\\n2500\\n\\n60\\n23\\n34\\n500\\n\\n4000\\n200\\n\\n50\\n200\\n60\\n\\n8000\\n14000\\n\\n10\\n30\\n7\\n\\n50000\\n\\n22\\n10\\n4\\n\\n25\\n12\\n\\n4\\n\\n35\\n\\n19000\\n\\n15\\n\\n20\\n\\n130\\n150\\n\\n2243\\n\\n120\\n\\n1792\\n\\n\\x0cItabuna/ Pau Brasil/\\nItamb\\xc3\\xa9/ Itapetinga/\\nItaju do Col\\xc3\\xb4nia/\\nCanavieiras\\n\\nT. I. Caramuru Catarina\\nParaguassu\\n\\nItapetinga/ Potiragu\\xc3\\xa1 Fazenda Esmeralda\\nJacobina\\nPil\\xc3\\xb5es\\n\\n700\\n\\n54000\\n\\n30\\n15\\n\\n643\\n780\\n\\n462\\n\\n3000\\n\\n56\\n\\n203\\n\\n20\\n578\\n\\n1456\\n1284\\n\\nLajedinho\\nLauro de Freitas\\n\\n\\xc3\\x81rea do Projeto de Irriga\\xc3\\xa7\\xc3\\xa3o\\nSalitre/Acamp. Abril Vermelho\\nFaz. Mariad I/Mariat/Projeto\\nCura\\xc3\\xa7\\xc3\\xa1/Acamp. Palmares\\nAssentamento Santo Ant\\xc3\\xb4nio e\\nS\\xc3\\xa3o Jos\\xc3\\xa9\\nCom. Quilombola Quingoma\\n\\nMaragogipe\\nMaragogipe\\nMaragogipe\\n\\nCom. Quilombola Baix\\xc3\\xa3o do Gua\\xc3\\xad\\nCom. Quilombola Guer\\xc3\\xa9m\\nCom. Quilombola Tabatinga\\n\\n50\\n33\\n30\\n\\nMaragogipe\\n\\nCom. Quilombola Girau Grande\\nCom. Quilombola\\nGuaru\\xc3\\xa7u/Gura\\xc3\\xa7u\\n\\n30\\n\\nCom. Quilombola Porto de Pedra\\nCom. Quilombola\\nQuinzanga/Quizanga\\nCom. Paranazinho/Fundo de\\nPasto da COMTRAFP\\nCom. Riacho/Fundo de Pasto da\\nCOMTRAFP\\nCom. Umbiguda/Fundo de Pasto\\nda COMTRAFP\\nCom. Mangabeira/Fundo de\\nPasto da COMTRAFP\\nCom. Quilombola Fazenda\\nGrande\\nBarra dos Carvalhos\\nCom. Quilombola Lagoa da\\nCruz/Lipari Minera\\xc3\\xa7\\xc3\\xa3o\\nCom. Quilombola Palha/Lipari\\nMinera\\xc3\\xa7\\xc3\\xa3o\\nCom. Quilombola Po\\xc3\\xa7as/Lipari\\nMinera\\xc3\\xa7\\xc3\\xa3o\\nCom. Quilombola Lagoa das\\nSalinas/Lipari Minera\\xc3\\xa7\\xc3\\xa3o\\nCom. Quilombola Caldeir\\xc3\\xa3o do\\nSangue/Lipari Minera\\xc3\\xa7\\xc3\\xa3o\\nCom. Quilombola Caldeir\\xc3\\xa3o dos\\nPadres/Lipari Minera\\xc3\\xa7\\xc3\\xa3o\\nCom. Quilombola Lagoa dos\\nBois/Lipari Minera\\xc3\\xa7\\xc3\\xa3o\\n\\n30\\n\\nJuazeiro\\nJuazeiro\\n\\nMaragogipe\\nMaragogipe\\nMaragogipe\\nMirangaba\\nMirangaba\\nMirangaba\\nMirangaba\\nMuqu\\xc3\\xa9m de S\\xc3\\xa3o\\nFrancisco\\nNilo Pe\\xc3\\xa7anha\\nNordestina\\nNordestina\\nNordestina\\nNordestina\\nNordestina\\nNordestina\\nNordestina\\n\\n33\\n\\n30\\n200\\n\\n700\\n\\n50\\n\\n500\\n\\n90\\n\\n700\\n\\n100\\n\\n700\\n\\n180\\n\\n2500\\n\\n50\\n65\\n30\\n85\\n51\\n11\\n55\\n\\n\\x0cNordestina\\nPonto Novo\\n\\nCom. Quilombola Bom\\nSucesso/Lipari Minera\\xc3\\xa7\\xc3\\xa3o\\nCom. Quilombola Tanque\\nBonito/Lipari Minera\\xc3\\xa7\\xc3\\xa3o\\nCom. Quilombola Lages das\\nCabras/Lipari Minera\\xc3\\xa7\\xc3\\xa3o\\nCom. Quilombola Fuma\\xc3\\xa7a/Lipari\\nMinera\\xc3\\xa7\\xc3\\xa3o\\nCom. Quilombola Grotas/Lipari\\nMinera\\xc3\\xa7\\xc3\\xa3o\\nAcampamento Uni\\xc3\\xa3o\\n\\nPorto Seguro/ Santa\\nCruz Cabr\\xc3\\xa1lia\\n\\nPonta Grande/Aldeia Nova\\nCoroa/Itapororoca/Sar\\xc3\\xa3\\nMiraw\\xc3\\xaa/Mirap\\xc3\\xa9/Txihi\\nKamayur\\xc3\\xa1/Novos Guerreiros/T. I.\\nCoroa Vermelha\\n\\nNordestina\\nNordestina\\nNordestina\\nNordestina\\n\\n15\\n11\\n33\\n42\\n7\\n56\\n\\n2000\\n\\n350\\n\\n3000\\n\\n75\\n45\\n50\\n\\n28000\\n1998\\n\\nT. I. CahyPequi/Comexatiba/Aldeia\\nPrado\\nCahy/Mexatib\\xc3\\xa1/Cumuruxatiba\\nRemanso\\nComunidade Salinas Grande\\nRibeir\\xc3\\xa3o do Largo\\nFazenda Guarani\\nFaz. Tucum/Acamp. Nova\\nSanta Cruz Cabr\\xc3\\xa1lia\\nEsperan\\xc3\\xa7a\\nAguada Po\\xc3\\xa7o de Dentro/Com. de\\nSanta Maria da Vit\\xc3\\xb3ria Salobro\\nS\\xc3\\xa3o Francisco do\\nCom. Quilombola Monte\\nConde\\nRec\\xc3\\xb4ncavo\\n\\n700\\n\\nSenhor do Bonfim\\n\\nCom. Barroca do Faleiro de Cima\\n\\n40\\n\\nSenhor do Bonfim\\nSento S\\xc3\\xa9\\n\\nCom. Barroca do Faleiro de Baixo\\nComunidade Brejo de Dentro\\nCom. Quilombola Rio dos\\nMacacos\\nCom. S\\xc3\\xa3o Domingos/Projetos de\\nEnergia E\\xc3\\xb3lica\\n\\n51\\n120\\n\\nSim\\xc3\\xb5es Filho\\nSouto Soares\\nSubtotal = 111\\n\\n55\\n40\\n\\n20000\\n\\n130\\n\\n43\\n\\n9746\\n\\n769489\\n\\nCear\\xc3\\xa1\\n\\nEsp\\xc3\\xadrito Santo\\n\\nMunic\\xc3\\xadpios\\nItapipoca\\n\\nNome do Conflito\\nP. A. Macei\\xc3\\xb3\\n\\nFam\\xc3\\xadlias \\xc3\\x81rea\\n338\\n\\nMauriti\\n\\nFaz. Gravat\\xc3\\xa1/Acamp. Vida Nova\\n\\n30\\n\\n1000\\n\\nPacatuba/ Maracana\\xc3\\xba T. I. Pitaguary/Emp. Britaboa\\n\\xc3\\x81rea da Mineradora Globest\\nQuiterian\\xc3\\xb3polis\\nParticipa\\xc3\\xa7\\xc3\\xb5es Ltda.\\nFaz. Canaf\\xc3\\xadstula/Acamp. 17 de\\nSantana do Acara\\xc3\\xba\\nAbril\\nSubtotal = 5\\n\\n1150\\n\\n1735\\n\\n150\\n30 1048,97\\n1698\\n\\n3784\\n\\n\\x0cMunic\\xc3\\xadpios\\nConcei\\xc3\\xa7\\xc3\\xa3o da Barra\\nFund\\xc3\\xa3o\\nLinhares\\nNova Ven\\xc3\\xa9cia\\nPinheiros\\nS\\xc3\\xa3o Mateus/\\nConcei\\xc3\\xa7\\xc3\\xa3o da Barra/\\nAracruz\\nVila Velha\\nSubtotal = 7\\nGoi\\xc3\\xa1s\\nID\\n\\nNome do Conflito\\nCom. Quilombola do\\nLinharinho/Aracruz\\nAssentamento Piranema\\n\\xc3\\x81rea em Palhal/Complexo-G\\xc3\\xa1sQu\\xc3\\xadmico/Petrobras\\nFaz. Neblina/Acamp. Ondina\\n\\xc3\\x81rea S 105/Margens da BR101/Suzano\\nAracruz/Vila do Riacho/Caieiras\\nVelhas/Fibria/Votorantim/Tupini\\nquim\\nFazenda na Barra do Jucu\\n\\nMunic\\xc3\\xadpios\\n\\nNome do Conflito\\nFaz. Esusa/Reserva\\nAlto Para\\xc3\\xadso de Goi\\xc3\\xa1s Ambiental/PDS\\nFaz. Agropastoril Dom In\\xc3\\xa1cio\\nAn\\xc3\\xa1polis\\n\"Jo\\xc3\\xa3o de Deus\"\\nAssent. Oziel de Baliza/C\\xc3\\xb3rrego\\nBaliza\\nMeia Lua\\n\\nCatal\\xc3\\xa3o\\n\\nAcamp. Recanto da Paz/Fazenda\\nSete Irm\\xc3\\xa3os/Grupo Filmaro/Us.\\nGoiasa\\nFaz. Boa Sorte/Palmeiras do\\nMaranh\\xc3\\xa3o/ C\\xc3\\xb3rrego da Vaca\\nFazenda Veredas\\nComunidade Maca\\xc3\\xbaba/Vale\\nCom. Mata\\nPreta/Coqueiros/Maca\\xc3\\xbaba/Chap\\nad\\xc3\\xa3o/Mosaic/Cmoc/Vale\\n\\nCavalcante\\n\\nCom. Quilombola S\\xc3\\xa3o\\nDomingos/Tatu/ S\\xc3\\xa3o\\nJos\\xc3\\xa9/Mineradora Brazman/Zeus\\n\\nCavalcante/ Monte\\nAlegre de Goi\\xc3\\xa1s\\nCavalcante/ Monte\\nAlegre de Goi\\xc3\\xa1s\\n\\nCom. V\\xc3\\xa3o de Almas/Hidrel\\xc3\\xa9trica\\nSanta M\\xc3\\xb4nica/Kalunga\\nCom. Engenho II/Quilombo\\nKalunga\\n\\nCorumb\\xc3\\xa1 de Goi\\xc3\\xa1s\\nFlores de Goi\\xc3\\xa1s\\n\\nCentro de Forma\\xc3\\xa7\\xc3\\xa3o Santa Dica\\nAssentamento S\\xc3\\xa3o Vicente\\nAssent. Vale do Macac\\xc3\\xa3o/Rio\\nParan\\xc3\\xa3/Rio Praim/Rio\\nMacaquinho\\n\\nBom Jesus de Goi\\xc3\\xa1s\\nCampina\\xc3\\xa7u\\nCampina\\xc3\\xa7u\\nCatal\\xc3\\xa3o\\n\\nFlores de Goi\\xc3\\xa1s\\nGuap\\xc3\\xb3/ Campestre de\\nGoi\\xc3\\xa1s/ Palmeiras de\\nGoi\\xc3\\xa1s\\nFaz. Palmeiras/Assent. Canudos\\n\\nFam\\xc3\\xadlias \\xc3\\x81rea\\n48\\n50\\n\\n9542\\n\\n100\\n70\\n\\n415\\n6000\\n\\n50\\n\\n414\\n\\n1200\\n150 1,5\\n1668\\n\\n138000\\n154372\\n\\nFam\\xc3\\xadlias \\xc3\\x81rea\\n53\\n100\\n15\\n\\n13\\n1\\n1\\n30\\n\\n50\\n\\n40\\n\\n70\\n\\n600\\n\\n250000\\n\\n250\\n\\n400\\n\\n19166\\n\\n5\\n\\n450\\n\\n12725\\n\\n\\x0cIpameri\\nIpameri/ Catal\\xc3\\xa3o\\nItabera\\xc3\\xad\\nJaupaci\\nMina\\xc3\\xa7u\\nMorro Agudo de\\nGoi\\xc3\\xa1s\\nPiranhas\\nPlanaltina\\n\\nFaz. Buriti/Corumb\\xc3\\xa1 Velho/Pr\\xc3\\xa9Assent. Ana Ferreira\\nFaz. Ouro Verde/Acamp. Jos\\xc3\\xa9\\nBelmiro/Olga Ben\\xc3\\xa1rio\\n\\n25\\n33\\n\\nAssentamento Dom Fernando\\nFazenda em Jaupaci\\nComunidade do Carmo\\nCom. Minas Boa\\nVista/Olaria/Mineradora\\nMosaic/CMOC\\n\\n54\\n46\\n5\\n\\nP. A. Nascente de S\\xc3\\xa3o Domingos\\nFaz. Itauna/Empresa\\nIgarashi/C\\xc3\\xb3rrego Lapinha\\n\\n2\\n\\nSanta Helena de Goi\\xc3\\xa1s Usina Santa Helena\\nAssent. S\\xc3\\xa3o Sebasti\\xc3\\xa3o da\\nSilv\\xc3\\xa2nia\\nGarganta\\nSubtotal = 25\\n\\n30\\n\\n3\\n\\nAlc\\xc3\\xa2ntara\\n\\nAlc\\xc3\\xa2ntara\\n\\nAlc\\xc3\\xa2ntara\\n\\nNome do Conflito\\nAgrovila Pepital/Centro de\\nLan\\xc3\\xa7amento de Alc\\xc3\\xa2ntara\\nCom. Quil.\\nMamuna/Mamona/Centro de\\nLan\\xc3\\xa7amento de Alc\\xc3\\xa2ntara\\nCom. Quil. \\xc3\\x81guas\\nBelas/Cema/Centro de\\nLan\\xc3\\xa7amento de Alc\\xc3\\xa2ntara\\n\\n200\\n3226\\n\\nFam\\xc3\\xadlias \\xc3\\x81rea\\n46\\n\\n80\\n\\n2\\n\\nAlc\\xc3\\xa2ntara\\n\\nCom. Quil. Baracatatiua/Centro\\nde Lan\\xc3\\xa7amento de Alc\\xc3\\xa2ntara\\nCom. Quil. Brito/Centro de\\nLan\\xc3\\xa7amento de Alc\\xc3\\xa2ntara\\nCom. Quil. Itapera/Centro de\\nLan\\xc3\\xa7amento de Alc\\xc3\\xa2ntara\\n\\nAlc\\xc3\\xa2ntara\\n\\nCom. Quil. Mamuninha/Centro\\nde Lan\\xc3\\xa7amento de Alc\\xc3\\xa2ntara\\n\\n4\\n\\nAlc\\xc3\\xa2ntara\\n\\nCom. Quil. Canelatiua/Centro de\\nLan\\xc3\\xa7amento de Alc\\xc3\\xa2ntara\\n\\n67\\n\\nAlc\\xc3\\xa2ntara\\n\\nCom. Quil. Santa Maria/Centro\\nde Lan\\xc3\\xa7amento de Alc\\xc3\\xa2ntara\\n\\n138\\n\\nAlc\\xc3\\xa2ntara\\n\\nCom. Quil. Mato Grosso/Centro\\nde Lan\\xc3\\xa7amento de Alc\\xc3\\xa2ntara\\n\\n7\\n\\nAlc\\xc3\\xa2ntara\\n\\nCom. Quil. Vista Alegre/Centro\\nde Lan\\xc3\\xa7amento de Alc\\xc3\\xa2ntara\\n\\n32\\n\\nAlc\\xc3\\xa2ntara\\nAlc\\xc3\\xa2ntara\\n\\n4030\\n\\n800\\n\\nMaranh\\xc3\\xa3o\\nMunic\\xc3\\xadpios\\n\\n380\\n\\n11\\n45\\n18\\n\\n286351\\n\\n\\x0cAlc\\xc3\\xa2ntara\\n\\nAlc\\xc3\\xa2ntara\\nAlc\\xc3\\xa2ntara\\nAlc\\xc3\\xa2ntara\\n\\nAlc\\xc3\\xa2ntara\\nAlc\\xc3\\xa2ntara\\nAlc\\xc3\\xa2ntara\\n\\nCom. Quil. Retiro/Centro de\\nLan\\xc3\\xa7amento de Alc\\xc3\\xa2ntara\\nCom. Quil. Ara\\xc3\\xba Novo/Centro de\\nLan\\xc3\\xa7amento de Alc\\xc3\\xa2ntara\\nCom. Quil. Bom Viver/Centro de\\nLan\\xc3\\xa7amento de Alc\\xc3\\xa2ntara\\nCom. Quil. Camaraj\\xc3\\xb3/Centro de\\nLan\\xc3\\xa7amento de Alc\\xc3\\xa2ntara\\nCom. Quil. Canavieira/Centro de\\nLan\\xc3\\xa7amento de Alc\\xc3\\xa2ntara\\nCom. Quil. Folhal/Centro de\\nLan\\xc3\\xa7amento de Alc\\xc3\\xa2ntara\\nCom. Quil. Galego/Centro de\\nLan\\xc3\\xa7amento de Alc\\xc3\\xa2ntara\\n\\nAlc\\xc3\\xa2ntara\\n\\nCom. Quil. M\\xc3\\xa3e Eug\\xc3\\xaania/Centro\\nde Lan\\xc3\\xa7amento de Alc\\xc3\\xa2ntara\\nCom. Quil. Mocajubal/Centro de\\nLan\\xc3\\xa7amento de Alc\\xc3\\xa2ntara\\nCom. Quil. Pacuri/Centro de\\nLan\\xc3\\xa7amento de Alc\\xc3\\xa2ntara\\nCom. Quil. Peria\\xc3\\xa7u/Centro de\\nLan\\xc3\\xa7amento de Alc\\xc3\\xa2ntara\\n\\nAlc\\xc3\\xa2ntara\\n\\nCom. Quil. Ponta d\\' Areia/Centro\\nde Lan\\xc3\\xa7amento de Alc\\xc3\\xa2ntara\\n\\nAlc\\xc3\\xa2ntara\\nAlc\\xc3\\xa2ntara\\nAlc\\xc3\\xa2ntara\\n\\nAlc\\xc3\\xa2ntara\\nAlc\\xc3\\xa2ntara\\n\\nAlc\\xc3\\xa2ntara\\nAlc\\xc3\\xa2ntara\\n\\nAlc\\xc3\\xa2ntara\\nAlc\\xc3\\xa2ntara\\nAlc\\xc3\\xa2ntara\\nAlc\\xc3\\xa2ntara\\nAlc\\xc3\\xa2ntara\\nAlc\\xc3\\xa2ntara\\nAlc\\xc3\\xa2ntara\\n\\nCom. Quil. Porto do Aru/Centro\\nde Lan\\xc3\\xa7amento de Alc\\xc3\\xa2ntara\\nCom. Quil. Rio Verde/Centro de\\nLan\\xc3\\xa7amento de Alc\\xc3\\xa2ntara\\nCom. Quil. S\\xc3\\xa3o Jo\\xc3\\xa3o de\\nCortes/Centro de Lan\\xc3\\xa7amento de\\nAlc\\xc3\\xa2ntara\\nCom. Quil. Tacaua/Centro de\\nLan\\xc3\\xa7amento de Alc\\xc3\\xa2ntara\\nCom. Quil. Vila Valdeci/Centro de\\nLan\\xc3\\xa7amento de Alc\\xc3\\xa2ntara\\nAgrovila Peru/Centro de\\nLan\\xc3\\xa7amento de Alc\\xc3\\xa2ntara\\nAgrovila Cajueiro/Centro de\\nLan\\xc3\\xa7amento de Alc\\xc3\\xa2ntara\\nAgrovila Ponta Seca/Centro de\\nLan\\xc3\\xa7amento de Alc\\xc3\\xa2ntara\\nAgrovila S\\xc3\\xb3 Assim/Centro de\\nLan\\xc3\\xa7amento de Alc\\xc3\\xa2ntara\\nAgrovila Marud\\xc3\\xa1/Centro de\\nLan\\xc3\\xa7amento de Alc\\xc3\\xa2ntara\\nAgrovila Espera/Centro de\\nLan\\xc3\\xa7amento de Alc\\xc3\\xa2ntara\\n\\n3\\n\\n5\\n8\\n2\\n\\n5\\n30\\n13\\n\\n2\\n27\\n19\\n26\\n\\n80\\n\\n2\\n5\\n\\n151\\n5\\n\\n5\\n123\\n59\\n17\\n\\n13\\n\\n\\x0cPov. Gostoso, Barro I e II, Pati,\\nBom Sucesso/TG Agroind\\xc3\\xbastria\\n\\n23\\n\\n997\\n\\nCom. Arame\\n\\n16\\n\\n333\\n\\nT. I. Governador\\n\\n164\\n\\n42054\\n\\n35\\n12\\n\\n819\\n\\n74\\n\\n7750\\n\\n5\\n\\n500\\n\\nArari\\nArari\\nArari\\nArari\\nArari\\nArari\\nArari\\n\\nComunidade Belo Monte 3\\nComunidade Formiga\\nBuritizinho\\nPau Ferrado\\nBaix\\xc3\\xa3o das Vassouras\\nBaix\\xc3\\xa3o da Subida\\nCedro/B\\xc3\\xbafalos\\nCom. Mutum II\\nCom. Capim A\\xc3\\xa7u\\nCom. Laranjeira Campo do\\nCarmo I e II\\nCom. Flexeiras/B\\xc3\\xbafalos\\nCom. Passa Bem/B\\xc3\\xbafalos\\nCom. Rabela/B\\xc3\\xbafalos\\nCom. Estiva/B\\xc3\\xbafalos\\nCom. Ilhota I/B\\xc3\\xbafalos\\nCom. Taboa/B\\xc3\\xbafalos\\n\\nArari\\nArari\\nArari\\nArari\\nArari\\nArari\\nArari\\nBacabeira\\nBalsas\\nBalsas\\nBarreirinhas\\nBarreirinhas\\nBarreirinhas\\nBarreirinhas\\nBarreirinhas\\n\\nCom. Igarap\\xc3\\xa9 do Arari/B\\xc3\\xbafalos\\nCom. F\\xc3\\xa9lix/B\\xc3\\xbafalos\\nCom. Juncal II/B\\xc3\\xbafalos\\nPovoado Mata\\nCom. Flexal\\nCom. Boca de Mel\\nCom. Moitas\\nPov. Santa Quit\\xc3\\xa9ria e Pequi\\nP. A. Gado Bravinho\\nBaixa Funda\\nAssentamento Mamede II\\nAndreza\\nRio Grande dos Lopes\\nJurubeba\\nPassagem do Gado\\n\\n700\\n21\\n34\\n60\\n\\n119\\n2012\\n400\\n\\nAldeias Altas\\nAlto Alegre do\\nMaranh\\xc3\\xa3o\\nAmarante do\\nMaranh\\xc3\\xa3o\\nAmarante do\\nMaranh\\xc3\\xa3o\\nAnapurus\\nAnapurus\\nAraioses\\nAraioses\\nAraioses\\nArari\\nArari\\nArari\\n\\nBarreirinhas/ Primeira Com. Tradicionais do Parque\\nCruz/ Santo Amaro do Nacional dos Len\\xc3\\xa7\\xc3\\xb3is\\nMaranh\\xc3\\xa3o\\nMaranhenses\\nBom Jardim/ Graja\\xc3\\xba/\\nCarutapera/ Z\\xc3\\xa9 Doca/\\nTuria\\xc3\\xa7u\\n\\xc3\\x81rea Ind\\xc3\\xadgena Aw\\xc3\\xa1 - Guaj\\xc3\\xa1\\nBom Jardim/ S\\xc3\\xa3o Jo\\xc3\\xa3o\\ndo Caru\\nT. I. Caru\\nBrejo\\nQuilombo Alto Bonito\\nBuriti\\nPovoado Carrancas\\nBuriti\\nComunidade Brej\\xc3\\xa3o\\n\\n1375\\n\\n90\\n\\n116582\\n\\n100\\n46\\n12\\n30\\n\\n173000\\n3806\\n400\\n600\\n\\n\\x0cBuriti\\n\\nAreias\\nCom. Quilombola Saco das\\nAlmas/Vila das Almas\\n\\nBuriti/ Brejo\\nBuritirana/\\nBuriticupu/ Bom Jesus\\ndas Selvas/ Arame/\\nAmarante do\\nT. I. Arariboia/92 Aldeias/Etnias\\nMaranh\\xc3\\xa3o\\nGuajajara, Gavi\\xc3\\xa3o e Guaj\\xc3\\xa1\\nChapadinha\\n\\n1859\\n\\n23103\\n\\n1329\\n\\n413000\\n\\n36\\n\\n2800\\n\\n26\\n\\n472\\n\\nChapadinha\\n\\nPov. Sangue/Chapada do Sangue\\nCom. Quilombola Barro\\nVermelho\\n\\nFormosa da Serra\\nNegra\\n\\nPov. Bem Feito/Faz. Chapada do\\nBacuri/Gl. S\\xc3\\xa3o Jos\\xc3\\xa9/Data Alegre\\n\\n12\\n\\n970\\n\\nT. I. Bacurizinho/Aldeias\\nKamihaw\\nGuajajara/Nazar\\xc3\\xa9/Pedra/Planalto\\n\\n915\\n\\n82432\\n\\nT. I. Porquinhos\\n\\n169\\n\\n79520\\n\\nT. I. Cana Brava/Aldeias\\nCoquinho/Coquinho II/Ilha de\\nS\\xc3\\xa3o Pedro/Silvino/Mussun/Nova\\nVitoriano\\n\\n1127\\n\\n137000\\n\\nT. I. Urucu-Juru\\xc3\\xa1\\n\\n208\\n\\n13000\\n\\nIgarap\\xc3\\xa9 do Meio\\n\\nVila Diamante/P. A. Juta\\xc3\\xad/Vale\\n\\n400\\n\\nItaipava do Graja\\xc3\\xba/\\nJenipapo dos Vieiras\\n\\nT. I. Lagoa Comprida/Aldeias\\nLeite/Decente\\n\\n201\\n\\nT. Q. Sta. Rosa dos\\nPretos/Barreira Funda/Alto S\\xc3\\xa3o\\nJo\\xc3\\xa3o e Outros/Duplica\\xc3\\xa7\\xc3\\xa3o BR-135\\nCom. Quilombola Colombo\\nPovoado Cheiroso\\nAcamp. Marielle Franco\\n\\n800\\n45\\n20\\n152\\n\\n9000\\n\\nFaz. Cip\\xc3\\xb3 Cortado/Rolete/Assent.\\nCipo Cortado\\n\\n140\\n\\n4000\\n\\n100\\n50\\n\\n1000\\n\\nGraja\\xc3\\xba\\nGraja\\xc3\\xba/ Barra do\\nCorda/ Fernando\\nFalc\\xc3\\xa3o/ Formosa da\\nSerra Negra\\n\\nGraja\\xc3\\xba/ Barra do\\nCorda/ Jenipapo dos\\nVieiras\\nGraja\\xc3\\xba/ Itaipava do\\nGraja\\xc3\\xba\\n\\nItapecuru Mirim\\nItapecuru Mirim\\nItapecuru Mirim\\nItinga do Maranh\\xc3\\xa3o\\nJo\\xc3\\xa3o Lisboa/\\nAmarante do\\nMaranh\\xc3\\xa3o/ Senador\\nLa Rocque\\n\\nJunco do Maranh\\xc3\\xa3o/\\nBoa Vista do Gurupi/\\nAmap\\xc3\\xa1 do Maranh\\xc3\\xa3o Com. Vilela/Gleba Campina\\nLu\\xc3\\xads Domingues\\nGleba Negra Velha\\n\\n13000\\n\\n143\\n\\n\\x0cMatinha\\nMatinha\\nMatinha\\n\\nTerrit\\xc3\\xb3rio Sesmaria do\\nJardim/Quilombo S\\xc3\\xa3o Caetano\\nTerrit\\xc3\\xb3rio Sesmaria do\\nJardim/Quilombo Bom Jesus\\nComunidade Patos\\nPovoado Salva Terra\\n\\nMat\\xc3\\xb5es\\n\\nCom. Tanque de Rodagem/S\\xc3\\xa3o\\nJo\\xc3\\xa3o/Faz. Casti\\xc3\\xa7a\\n\\nMatinha\\n\\nMat\\xc3\\xb5es do Norte\\nMilagres\\nMiranda do Norte\\nMontes Altos/\\nAmarante do\\nMaranh\\xc3\\xa3o/ Lajeado\\nNovo/ S\\xc3\\xadtio Novo\\n\\n65\\n\\n600\\n\\n58\\n\\n2000\\n\\n100\\n\\n9000\\n\\nCom. Quilombola Lago do Coco\\nBorrachudo\\nT. Q. Joaquim Maria\\n\\n30\\n\\n1497\\n\\n14\\n\\n414\\n\\nT. I. Krikati\\n\\n254\\n\\n145000\\n\\n360\\n100\\n\\n158\\n\\nPov. Guerreiro/Faz. Cana Brava\\nCom. Quilombola Cocalinho\\nComunidade \\xc3\\x81gua Riquinha\\nCom. Quilombola\\nSalgado/Territ\\xc3\\xb3rio Aldeia\\nVelha/11 Comunidades\\nAcampamento Bananal\\nCom. Quilombola no Povoado\\nOn\\xc3\\xa7a\\n\\n80\\n152\\n\\n10771\\n3375\\n\\n240\\n\\n3600\\n\\nCabeceira da Tabatinga\\n\\n35\\n\\n2936\\n\\nVertentes\\n\\n80\\n\\n5430\\n\\nCom. Baix\\xc3\\xa3o da Coceira\\n\\n70\\n\\n2179\\n\\nCom. Quilombola Barra da On\\xc3\\xa7a\\nCom. Outeiro dos Pires\\nPov. S\\xc3\\xadtio do Meio\\n\\n260\\n120\\n45\\n\\nSanto Ant\\xc3\\xb4nio\\n\\n53\\n\\n1310\\n\\nFaz. Guarim\\xc3\\xa3/Data Cumbre\\n\\n12\\n\\n400\\n\\nCom. Trememb\\xc3\\xa9 do Engenho\\n\\n60\\n\\n77\\n\\nNova Olinda do\\nMaranh\\xc3\\xa3o/ Z\\xc3\\xa9 Doca/\\nCentro Novo do\\nMaranh\\xc3\\xa3o/\\nAraguan\\xc3\\xa3/ Santa Luzia\\ndo Paru\\xc3\\xa1/ Centro do\\nGuilherme/\\nMaranh\\xc3\\xa3ozinho\\nT. I. Alto Turia\\xc3\\xa7u\\nPa\\xc3\\xa7o do Lumiar\\nParque Guaruj\\xc3\\xa1 III\\nParnarama\\nParnarama\\nPaulino Neves\\n\\nPirapemas\\nSanta In\\xc3\\xaas\\nSanta In\\xc3\\xaas\\nSanta Quit\\xc3\\xa9ria do\\nMaranh\\xc3\\xa3o\\nSanta Quit\\xc3\\xa9ria do\\nMaranh\\xc3\\xa3o\\nSanta Quit\\xc3\\xa9ria do\\nMaranh\\xc3\\xa3o\\nSanta Quit\\xc3\\xa9ria do\\nMaranh\\xc3\\xa3o\\nSanta Rita\\nSanta Rita\\nS\\xc3\\xa3o Benedito do Rio\\nPreto\\nS\\xc3\\xa3o Benedito do Rio\\nPreto\\nS\\xc3\\xa3o Jos\\xc3\\xa9 de Ribamar\\n\\n\\x0cS\\xc3\\xa3o Lu\\xc3\\xads\\nS\\xc3\\xa3o Lu\\xc3\\xads\\nS\\xc3\\xa3o Lu\\xc3\\xads\\nS\\xc3\\xa3o Lu\\xc3\\xads Gonzaga do\\nMaranh\\xc3\\xa3o\\n\\nCom. Vila Maranh\\xc3\\xa3o\\nComunidade Cajueiro\\nCom. Residencial Natureza\\n\\n50\\n500\\n20\\n\\nQuilombo Monte Alegre\\n\\n200\\n\\nS\\xc3\\xa3o Raimundo das\\nMangabeiras/ Loreto/\\nFernando Falc\\xc3\\xa3o/\\nMirador/ Sucupira do\\nNorte/ S\\xc3\\xa3o F\\xc3\\xa9lix de\\nBalsas/ Formosa da\\nSerra Negra/ S\\xc3\\xa3o\\nDomingos do Azeit\\xc3\\xa3 Parque Estadual do Mirador\\nSerrano do Maranh\\xc3\\xa3o Com. A\\xc3\\xa7ude/Iteno/Vista Alegre\\nFaz. S\\xc3\\xa3o Raimundo/Pov. Santa\\nMaria/Jaqueira/Cavalo\\nMorto/S\\xc3\\xa3o Carlos/S\\xc3\\xa3o\\nTimbiras\\nLouren\\xc3\\xa7o/Po\\xc3\\xa7o do Boi\\nCom. Quilombola de Santa\\nUrbano Santos\\nMaria\\nUrbano Santos\\nComunidade S\\xc3\\xa3o Raimundo\\nUrbano Santos\\nCom. Santa Rosa/Bacabal\\nUrbano Santos\\nCap\\xc3\\xa3ozinho\\nUrbano Santos/\\nBel\\xc3\\xa1gua\\nEstiva do Cangati\\nPov. de Bahias/Santero/Povo\\nViana\\nGamella\\nZ\\xc3\\xa9 Doca\\nPovoado Centro do Tot\\xc3\\xb3\\nSubtotal = 133\\n\\n610\\n\\n260\\n\\n700000\\n\\n32\\n\\n2500\\n\\n200\\n\\n2700\\n\\n80\\n36\\n60\\n\\n1000\\n1400\\n1549\\n\\n30\\n\\n680\\n\\n250\\n15342\\n\\n2027998\\n\\nMinas Gerais\\nMunic\\xc3\\xadpios\\n\\nNome do Conflito\\n\\nAbadia dos Dourados Fazenda Rio Preto\\nFaz. S\\xc3\\xa3o Francisco/Acamp.\\nAlmenara\\nPrincesa do Vale\\nCom. Quilombola Vila Teixeira\\nBelo Horizonte\\nSoares/Bairro Santa Tereza\\nBelo Horizonte/ Nova Com. Quilombola dos\\nLima\\nLu\\xc3\\xadzes/Construtora Patrimar\\n\\nBrumadinho\\nCampo do Meio\\nCan\\xc3\\xa1polis\\nCan\\xc3\\xa1polis\\n\\nCom. Parque da\\nCachoeira/Romp. da Barragem\\nMina do Feij\\xc3\\xa3o/Vale\\nFaz. Ariadn\\xc3\\xb3polis/Assent.\\nQuilombo Campo Grande\\nFaz. Germina/Us.\\nTria\\xc3\\xa1lcool/Grupo Jo\\xc3\\xa3o Lyra\\nFaz. Piripa Campo Limpo/Us.\\nTria\\xc3\\xa1lcool/Grupo Jo\\xc3\\xa3o Lyra\\n\\nFam\\xc3\\xadlias \\xc3\\x81rea\\n12\\n300\\n\\n16\\n30\\n\\n15\\n450\\n55\\n55\\n\\n6000\\n\\n\\x0cCapit\\xc3\\xa3o En\\xc3\\xa9as\\n\\nFelisburgo\\nFronteira\\n\\nGr\\xc3\\xa3o Mogol\\nMatias Cardoso\\n\\nFaz. Norte Am\\xc3\\xa9rica/Acamp.\\nRecanto das \\xc3\\x81guias\\nAcamp.Terra Prometida/Nova\\nAlegria/Alian\\xc3\\xa7a\\nAcamp. Beira Rio/Us. Destilaria\\nRio Grande S/A\\nFaz. Rio Rancho/Buriti\\nPequeno/Com. Geraizeiros do\\nVale das Cancelas\\nCom. Quil. da Lapinha/Faz. Lagoa\\nda Lapinha\\n\\nMinas Novas/ Berilo/\\nChapada do Norte/\\nCoronel Murta/\\nJenipapo de Minas/ V\\xc3\\xa1rias Comunidades\\nVirgem da Lapa\\nQuilombolas do Jequitinhonha\\nMontalv\\xc3\\xa2nia/ Matias Faz. 3J Mata do Japor\\xc3\\xa9/Com.\\nCardoso/ Mirav\\xc3\\xa2nia Olaria Barra do Mirador\\nCom. dos Mendes 10/\\nMuria\\xc3\\xa9\\nMIneradora CBA\\nParacatu\\nFazenda Paiol\\nPedras de Maria da\\nCruz\\nFazenda Arapuim\\nFaz. Sta. B\\xc3\\xa1rbara/Acamp. Bela\\nRio Pardo de Minas\\nVista/Replasa\\n\\xc3\\x81rea de Valderce e\\nFrancisco/GAR Minera\\xc3\\xa7\\xc3\\xa3o Com.\\nRomaria\\nExp. Imp. S.A.\\nCom. Quilombola C\\xc3\\xb3rrego\\nSabin\\xc3\\xb3polis\\nMestre\\nSalto da Divisa\\nCom. Cabeceira do Piabanha\\nCom. S\\xc3\\xa3o Pedro/Mineradora\\nTeixeiras\\nZMM\\nUberl\\xc3\\xa2ndia\\nFazenda Sobradinho\\nSubtotal = 24\\n\\n140\\n\\n500\\n\\n56\\n\\n2400\\n\\n138\\n\\n230\\n\\n6434\\n\\n170 5713,79\\n\\n60\\n\\n52\\n\\n1960\\n\\n6\\n96\\n\\n21\\n\\n300\\n30\\n\\n1\\n52\\n8\\n\\n34\\n2306\\n\\n23029\\n\\nMato Grosso do\\nSul\\nMunic\\xc3\\xadpios\\n\\nAnt\\xc3\\xb4nio Jo\\xc3\\xa3o\\nAquidauana\\nAquidauana\\nCaarap\\xc3\\xb3\\n\\nNome do Conflito\\nFam\\xc3\\xadlias \\xc3\\x81rea\\nNhanderu\\nMarangatu/Fronteira/Morro\\nAlto/Ita BSB/Pequiri Sta.\\nCreuza/Primavera/Pedro/Barra/S\\noberania\\n150\\nFaz. Esperan\\xc3\\xa7a/T. I. Taunay\\nIpegue\\n78\\nFaz. \\xc3\\x81gua Branca/Territ\\xc3\\xb3rio\\nAgachi\\n200\\nT. I. Guyrarok\\xc3\\xa1\\n32\\n\\n9300\\n12000\\n\\n11440\\n\\n\\x0cCaarap\\xc3\\xb3\\n\\nT. I. Pindo\\nRoky/Itagu\\xc3\\xa1/Retomada das\\nM\\xc3\\xa3es/Faz. Novilho/Nhandeva/T.\\nI. Dourados Amambai Pegu\\xc3\\xa1\\n\\nCaarap\\xc3\\xb3\\n\\nFaz. Yvu/Ivu/Tekoha\\nTorapaso/Kunumi Poty Vera/T. I.\\nDourados Amambai Pegu\\xc3\\xa1\\nFaz. Santa Maria/Tekoha\\nToropaso/T. I. Dourados\\nAmambai Pegu\\xc3\\xa1\\n\\nCampo Grande\\nCorumb\\xc3\\xa1\\n\\nFaz. Matinha/Acamp. Matinho\\nCom. Porto Esperan\\xc3\\xa7a\\n\\nCaarap\\xc3\\xb3\\n\\nDois Irm\\xc3\\xa3os do Buriti Acamp. \\xc3\\xa0s Margens da BR-262\\nAldeias Bororo e\\nJaguapiru/Reserva Ind\\xc3\\xadgena\\nDourados\\nDourados\\nCom. Apyka\\'y/Acamp. na BR463/Km 10/Pr\\xc3\\xb3ximo \\xc3\\xa0 Faz.\\nDourados\\nSerrana\\nDourados\\nAcamp. Nhu Vera/\\xc3\\x91u Vera\\nRetomadas Avae\\xe2\\x80\\x99te e\\nAratikuty/Imedia\\xc3\\xa7\\xc3\\xb5es das Aldeias\\nDourados\\nBororo e Jaguapiru\\nDourados/ Itapor\\xc3\\xa3/\\nT. I. Panambi/Acamp. Guyra\\nDouradina\\nKambi\\xe2\\x80\\x99y/Gwyrakambiy\\n\\xc3\\x81rea na Regi\\xc3\\xa3o do\\nBols\\xc3\\xa3o/Complexo Faz. Barraca e\\nInoc\\xc3\\xaancia\\nSabi\\xc3\\xa1\\nFaz. Remanso Gua\\xc3\\xa7u/T. I. Ivy\\nJapor\\xc3\\xa3\\nKatu\\nJapor\\xc3\\xa3/ Iguatemi\\nFaz. Chaparral/T. I. Ivy Katu\\nJapor\\xc3\\xa3/ Iguatemi\\nFaz. S\\xc3\\xa3o Jos\\xc3\\xa9/T. I. Ivy Katu\\nJapor\\xc3\\xa3/ Iguatemi\\nFaz. S\\xc3\\xa3o Miguel/T. I. Ivy Katu\\nJapor\\xc3\\xa3/ Iguatemi\\nFaz. Paloma/T. I. Ivy Katu\\nJapor\\xc3\\xa3/ Iguatemi\\nFaz. Mato Sujo/T. I. Ivy Katu\\nJapor\\xc3\\xa3/ Iguatemi\\nFaz. Glassuri/T. I. Ivy Katu\\nJardim\\nFazenda Ro\\xc3\\xa7a Grande\\nParanhos\\n\\nRio Brilhante\\nSubtotal = 26\\n\\nT. I. Arroio Kor\\xc3\\xa1/Proteiro Cor\\xc3\\xa1\\nFaz. Sto. Ant\\xc3\\xb4nio da Nova\\nEsperan\\xc3\\xa7a/Com. Laranjeira\\nNhanderu\\n\\n150\\n\\n40\\n\\n24\\n45\\n62\\n300\\n\\n3755\\n\\n3000\\n\\n5\\n45\\n\\n30\\n20\\n\\n2037\\n\\n150\\n250\\n250\\n30\\n103\\n105\\n102\\n115\\n\\n2600\\n\\n1713\\n101\\n\\n7176\\n\\n45\\n6187\\n\\n450\\n49716\\n\\nFam\\xc3\\xadlias \\xc3\\x81rea\\n336\\n300\\n50\\n\\n218515\\n164000\\n\\nMato Grosso\\nMunic\\xc3\\xadpios\\n\\xc3\\x81gua Boa\\nAripuan\\xc3\\xa3/ Colniza\\nBar\\xc3\\xa3o de Melga\\xc3\\xa7o\\n\\nNome do Conflito\\nT.I. Are\\xc3\\xb5es/Xavante\\nResex Guariba-Roosevelt\\nT. I. Ba\\xc3\\xada dos Guat\\xc3\\xb3/Guat\\xc3\\xb3\\n\\n\\x0cBar\\xc3\\xa3o de Melga\\xc3\\xa7o\\nBarra do Gar\\xc3\\xa7as\\nBarra do Gar\\xc3\\xa7as/\\nGeneral Carneiro\\nBrasnorte\\nBrasnorte\\nBrasnorte\\nCampo Novo do\\nParecis\\nCampo Novo do\\nParecis\\n\\nComunidade Retiro de S\\xc3\\xa3o Bento\\nT.I. S\\xc3\\xa3o Marcos/Xavante\\n\\n100\\n700\\n\\nT.I. Merure\\nT.I. Irantxe/Manoki\\nT.I. Manoki\\nT.I. Erikpats\\xc3\\xa1/Rikbaktsa\\n\\n164\\n88\\n63\\n169\\n\\nFazenda Morro Azul\\n\\n48\\n\\nP. A. Rio Verde\\n\\n107\\n\\nCanarana\\nT. I. Pimentel Barbosa/Xavante\\nCanarana/ Ga\\xc3\\xbacha do\\nNorte\\nT. I. Pequizal do Naruv\\xc3\\xb4tu\\nFaz. Cristo Rey/Acamp. S\\xc3\\xa3o\\nCastanheira\\nSebasti\\xc3\\xa3o\\nChapada dos\\nGuimar\\xc3\\xa3es\\nGleba/Assent. Jangada Roncador\\n\\xc3\\x81rea da Cooper-Roosevelt/P. A\\nColniza\\nTaquaru\\xc3\\xa7u do Norte\\nFaz. Bauru/Magali/Acamp. Gleba\\nColniza\\nUni\\xc3\\xa3o\\nComodoro\\nAgromehl Agropecu\\xc3\\xa1ria S/A\\nComodoro/ Colniza\\nT. I. Kawahiva do Rio Pardo\\nConfresa\\nP.A. Independente I\\nConfresa/ Santa\\nTerezinha\\nT. I. Urubu Branco/Tapirap\\xc3\\xa9\\nConfresa/ Vila Rica/\\nSanta Terezinha\\nCotrigua\\xc3\\xa7u\\nCotrigua\\xc3\\xa7u\\n\\nGl. Reunidas II/Faz. Santa\\nTerezinha/Assoc. Novo Horizonte\\nP. A. Juruena\\nFazenda Pau D\\'alho\\n\\nNortel\\xc3\\xa2ndia\\n\\nFaz. em Feliz Natal/Assoc. dos\\nTrab. Rurais Vale do Rio Ferro\\nFaz. Tarciana/Assent. Vale do\\nJuin\\xc3\\xa3o\\nGleba Rio Verde/Fazenda\\nEsmeralda\\nFaz. Barreir\\xc3\\xa3o/P.A. Raimundo\\nRocha\\n\\nNossa Senhora do\\nLivramento\\nNossa Senhora do\\nLivramento\\nNossa Senhora do\\nLivramento\\n\\nSesmaria Boa Vida/Quilombo\\nMata Cavalo/Mutuca\\nCom. de Brejal e outras/VM\\nMinera\\xc3\\xa7\\xc3\\xa3o\\nCom. Quilombola Jacar\\xc3\\xa9 de\\nCima/dos Pretos\\n\\nNossa Senhora do\\nLivramento/ Pocon\\xc3\\xa9\\n\\nCom. Quilombola S\\xc3\\xa3o Gon\\xc3\\xa7alo II\\n\\nFeliz Natal\\nJu\\xc3\\xadna\\nJu\\xc3\\xadna\\n\\n82301\\n45555\\n206445\\n79934\\n\\n1000\\n17 27878,5\\n150\\n\\n2625\\n\\n278\\n\\n15000\\n\\n630\\n340\\n110\\n17\\n279\\n\\n48000\\n6500\\n411844\\n\\n200\\n\\n300\\n468\\n247\\n\\n36400\\n30072\\n15000\\n\\n200\\n\\n750\\n\\n133\\n30\\n150\\n\\n5823\\n\\n418\\n\\n13627\\n\\n54\\n20\\n\\n19\\n\\n\\x0cNova Bandeirantes\\n\\nGleba Japuran\\xc3\\xa3/Faz. Japuran\\xc3\\xa3\\nFaz. Acara\\xc3\\xad e\\nMatrinch\\xc3\\xa3/Madeireira Juara/Gl.\\nJapuran\\xc3\\xa3\\n\\n382\\n\\n66900\\n\\n43\\n\\n1200\\n\\n955\\n\\n224447\\n\\nNovo Mundo\\n\\nT. I. Parabubure/Xavante\\nFaz. Ara\\xc3\\xbana/Acamp. Boa\\nEsperan\\xc3\\xa7a/Gl. Nhandu\\n\\nNovo Mundo\\nParana\\xc3\\xadta\\nParana\\xc3\\xadta\\nParanatinga\\n\\nGl. Nhand\\xc3\\xba/Faz. Recanto/5\\nEstrelas/PDS Nova Conquista II\\nAssentamento S\\xc3\\xa3o Pedro II\\nFazenda Vit\\xc3\\xb3ria\\nFazenda It\\xc3\\xa1lia/Capital\\n\\n141\\n32\\n129\\n260\\n\\n8000\\n2100\\n\\nPeixoto de Azevedo\\n\\nFazenda Serra Dourada II\\n\\n150\\n\\n4100\\n\\nPeixoto de Azevedo/\\nNova Guarita\\nPlanalto da Serra/\\nParanatinga\\nPontes e Lacerda/\\nComodoro\\n\\nGleba do Gama/Lt.12/P. A.\\nRenascer\\nT.I. Bakairi/Aldeia\\nPakuera/Paxola\\n\\n39\\n\\n16000\\n\\n184\\n\\n61405\\n\\nNova Bandeirantes\\nNova Xavantina/\\nCampin\\xc3\\xa1polis\\n\\nPoxor\\xc3\\xa9u\\nPrimavera do Leste\\n\\nT.I. Sarar\\xc3\\xa9/Pirineus de Souza\\nT.I. Jarudore/B\\xc3\\xb3e-Bororo/Aldeia\\nNova\\n\\xc3\\x81rea p\\xc3\\xbablica em Primavera do\\nLeste\\n\\nQuer\\xc3\\xaancia/ Canarana/\\nS\\xc3\\xa3o F\\xc3\\xa9lix do Araguaia/\\nNova Ubirat\\xc3\\xa3/ Feliz\\nNatal/ Marcel\\xc3\\xa2ndia/\\nParanatinga/ Ga\\xc3\\xbacha\\ndo Norte\\nParque Ind\\xc3\\xadgena do Xingu\\nSanto Afonso\\nFazenda Lagoa Bonita\\nSanto Ant\\xc3\\xb4nio do\\nLeste\\nT.I. Ubawawe/Xavante\\nSanto Ant\\xc3\\xb4nio do\\nLeverger\\nT.I. Tereza Cristina\\nS\\xc3\\xa3o F\\xc3\\xa9lix do Araguaia/\\nAlto Boa Vista/ Bom T. I. Mar\\xc3\\xa3iwatsed\\xc3\\xa9/Xavante/Faz.\\nJesus do Araguaia\\nSui\\xc3\\xa1-Missu\\nTabapor\\xc3\\xa3/ Apiac\\xc3\\xa1s/ T. I. Batel\\xc3\\xa3o/Apiac\\xc3\\xa1- Kayabi/Ald.\\nJuara/ Nova Cana\\xc3\\xa3 do Kururuzinho//Muruvi/Dinossaur\\nNorte\\no\\nTangar\\xc3\\xa1 da Serra\\nT.I Pareci/Faz.Valter Dantas\\nAssent. Ant\\xc3\\xb4nio Conselheiro/Faz.\\nTangar\\xc3\\xa1 da Serra\\nTapirapu\\xc3\\xa3\\n\\n162\\n\\n47\\n25\\n\\n4706\\n\\n120\\n\\n1875 26.420.039.374\\n2000\\n702\\n100\\n\\n52234\\n\\n127\\n\\n25694\\n\\n225\\n\\n165000\\n\\n38\\n230\\n\\n117000\\n\\n877\\n\\n37000\\n\\n\\x0cVila Bela da\\nSant\\xc3\\xadssima Trindade/\\nNova Lacerda/\\nConquista D Oeste\\nT.I. Paukalirajausu\\nSubtotal = 55\\n\\n29\\n15355\\n\\n8400\\n4847161\\n\\nPar\\xc3\\xa1\\nMunic\\xc3\\xadpios\\n\\nNome do Conflito\\n\\nAcar\\xc3\\xa1/ Tom\\xc3\\xa9-A\\xc3\\xa7u\\nAltamira\\nAltamira/ Novo\\nProgresso\\nAltamira/ Senador\\nJos\\xc3\\xa9 Porf\\xc3\\xadrio\\nAltamira/ Senador\\nJos\\xc3\\xa9 Porf\\xc3\\xadrio\\n\\nCom. Quil. Alto Acar\\xc3\\xa1/Biovale\\nT.I. Ba\\xc3\\xba/Kayap\\xc3\\xb3\\n\\n650\\n47\\n\\n4300\\n1540930\\n\\nGleba Gorotire/Big Vale\\n\\n270\\n\\n22000\\n\\nT.I. Arawet\\xc3\\xa9/Aldeia Iagarap\\xc3\\xa9\\n\\n117\\n\\nAnaj\\xc3\\xa1s\\n\\nAnapu\\nAnapu\\nAnapu\\nAnapu\\nAnapu\\nAnapu\\nAnapu\\nAnapu\\nAnapu\\nAnapu\\nAnapu/ Senador Jos\\xc3\\xa9\\nPorf\\xc3\\xadrio/ Vit\\xc3\\xb3ria do\\nXingu\\nAnapu/ Senador Jos\\xc3\\xa9\\nPorf\\xc3\\xadrio/ Vit\\xc3\\xb3ria do\\nXingu\\nAveiro/ Juruti\\nBenevides\\nBom Jesus do\\nTocantins\\n\\nBreu Branco\\nCachoeira do Arari\\n\\nT.I. Ituna/Itat\\xc3\\xa1\\nAgroindustrial e Comercial\\nPalmira/Ribeirinhos do rio\\nMoco\\xc3\\xb5es\\nGleba Bacaj\\xc3\\xa1/PDS\\nEsperan\\xc3\\xa7a/Assassinato da Ir.\\nDorothy\\nGl. Belo Monte/PDS Virola\\nJatob\\xc3\\xa1/Dorothy\\nG. Bacaj\\xc3\\xa1/PDS Esperan\\xc3\\xa7a/L. 5960-61-62/ J\\xc3\\xbalio C\\xc3\\xa9sar\\nG. Belo Monte/PDS Virola\\nJatob\\xc3\\xa1/L. 108/ Milton Lemos\\nGl. Manduacari/Lote 2\\nGl. Bacaj\\xc3\\xa1/P. A. Pil\\xc3\\xa3o Poente\\nII/Lote-69-71-73/Mata Preta\\nGl. Bacaj\\xc3\\xa1/Lt. 68/Mata Preta\\nGl. Bacaj\\xc3\\xa1/Lote 44/Faz. Sta.\\nMaria\\nGl. Bacaj\\xc3\\xa1/Lotes 96 e 97/Fazs.\\nBom Jesus e Berrante\\nGleba Belo Monte/Lote 126\\nT. I. Paqui\\xc3\\xa7amba/Juruna/UHE\\nBelo Monte/PAC\\nCom. Ilha da Bela Vista/T.I.\\nPaqui\\xc3\\xa7amba/UHE Belo\\nMonte/PAC\\nPeaex Mamuru\\nFaz. Bom Sucesso/Acamp. Chico\\nMendes\\nFazenda Ga\\xc3\\xbacha\\nFaz. Boa Sorte/Faz.\\nLiberdade/Acamp. Perp\\xc3\\xa9tuo\\nSocorro\\nCom. Quil. de Gurup\\xc3\\xa1\\n\\nFam\\xc3\\xadlias \\xc3\\x81rea\\n\\n142000\\n\\n3\\n\\n178\\n160\\n\\n39385\\n\\n20\\n\\n3000\\n\\n30\\n40\\n\\n3000\\n3000\\n\\n250\\n50\\n\\n3000\\n3000\\n\\n41\\n80\\n46\\n\\n24\\n\\n300\\n\\n133000\\n\\n90\\n350\\n\\n10\\n200\\n\\n12852\\n\\n\\x0cCana\\xc3\\xa3 dos Caraj\\xc3\\xa1s\\n\\nCana\\xc3\\xa3 dos Caraj\\xc3\\xa1s\\nCana\\xc3\\xa3 dos Caraj\\xc3\\xa1s\\nConcei\\xc3\\xa7\\xc3\\xa3o do\\nAraguaia\\nConcei\\xc3\\xa7\\xc3\\xa3o do\\nAraguaia\\nConcei\\xc3\\xa7\\xc3\\xa3o do\\nAraguaia\\nCurion\\xc3\\xb3polis/\\nXinguara/ Eldorado\\ndos Caraj\\xc3\\xa1s/ Pi\\xc3\\xa7arra\\n\\nFaz. Maraja\\xc3\\xad/Acamp. Lu\\xc3\\xads In\\xc3\\xa1cio\\nLula da Silva\\nAcamp. Serra\\nDourada/Complexo S\\xc3\\xa3o Lu\\xc3\\xads/P.\\nA. Caraj\\xc3\\xa1s/Vale/Projeto S11D\\n\\xc3\\x81rea pr\\xc3\\xb3xima ao Friogor\\xc3\\xadfico Rio\\nMaria\\n\\n300\\n12\\n\\nFazenda Capivara\\nFazenda Safita/Acamp. Vit\\xc3\\xb3ria da\\nUni\\xc3\\xa3o\\n\\n50\\n\\nFazenda Pau Brasil\\n\\n40 373,5\\n\\nFaz. Surubim/Acamp. Osmir\\nVenuto da Silva\\nFaz. Peruano/Acamp. Lourival\\nEldorado dos Caraj\\xc3\\xa1s Santana\\nEldorado dos Caraj\\xc3\\xa1s Fazenda Santa Maria\\nComplexo Iraque/Acamp.\\nEldorado dos Caraj\\xc3\\xa1s Jerusal\\xc3\\xa9m\\nEldorado dos Caraj\\xc3\\xa1s/ Agrop. Sta. B\\xc3\\xa1rbara/Faz. M\\xc2\\xaa\\nIrituia\\nBonita/Acamp. Dalc\\xc3\\xaddio Jurandir\\nIgarap\\xc3\\xa9-A\\xc3\\xa7u\\nFazenda Dom Bosco\\nPAE Mangabal e\\nItaituba\\nMontanha/PCH\\'s Tapaj\\xc3\\xb3s\\nItaituba\\n\\n42\\n\\n8\\n\\n250\\n450\\n\\n12500\\n\\n196\\n\\n2000\\n\\n60\\n\\n1252\\n\\n212\\n50\\n\\n23000\\n\\n101\\n\\nJacareacanga\\nJacund\\xc3\\xa1\\n\\nReserva Ind\\xc3\\xadgena Praia do \\xc3\\x8dndio\\nCom. Ribeirinha S\\xc3\\xa3o Luiz do\\nTapaj\\xc3\\xb3s\\nT.I. Sawr\\xc3\\xa9 Jaybu/m\\xc3\\xa9dio Tapaj\\xc3\\xb3s\\nKm 43\\nT. I. Sawr\\xc3\\xa9\\nMuybu/Munduruku/PCHs\\nTapaj\\xc3\\xb3s\\nFazenda Novo Mundo\\nT. I. Munduruku/UHE\\nTapaj\\xc3\\xb3s/PAC\\nFazenda Bela Vista\\n\\n1630\\n130\\n\\nMarab\\xc3\\xa1\\n\\nComp. da Faz. Tr\\xc3\\xaas Poderes/Faz.\\nFortaleza/Acamp. Helenira\\nRezende\\n\\n300\\n\\n11835\\n\\n450\\n\\n1258\\n\\nItaituba\\nItaituba\\n\\nItaituba/ Trair\\xc3\\xa3o\\nItupiranga\\n\\nMarab\\xc3\\xa1\\nMarab\\xc3\\xa1\\nMarab\\xc3\\xa1\\nMarab\\xc3\\xa1\\n\\nFaz. Santa Tereza/Acamp. Santa\\nErnestina/Acamp. Hugo Ch\\xc3\\xa1vez\\nFaz. Santa Clara/Acamp. Boa\\nEsperan\\xc3\\xa7a\\nCom. Ribeirinha Lago dos\\nMacacos\\nFazenda S\\xc3\\xa3o Jo\\xc3\\xa3o\\n\\n31\\n\\n28\\n\\n12\\n\\n170\\n70\\n\\n178000\\n2936\\n\\n20\\n197\\n30\\n\\n2000\\n\\n\\x0cMarab\\xc3\\xa1\\nMarab\\xc3\\xa1\\nMarab\\xc3\\xa1/ Itupiranga\\nMoju\\nMonte Alegre/\\nSantar\\xc3\\xa9m\\n\\nNova Ipixuna\\nNovo Progresso\\nNovo Progresso\\n\\nNovo Progresso\\n\\xc3\\x93bidos\\n\\nOriximin\\xc3\\xa1\\n\\nOriximin\\xc3\\xa1\\n\\nOriximin\\xc3\\xa1\\nOriximin\\xc3\\xa1/ Faro/\\nTerra Santa\\nOuril\\xc3\\xa2ndia do Norte\\nParagominas\\nParagominas/ Santa\\nLuzia do Par\\xc3\\xa1/\\nGarraf\\xc3\\xa3o do Norte/\\nNova Esperan\\xc3\\xa7a do\\nPiri\\xc3\\xa1\\nParauapebas\\n\\nCom. Ribeirinha Associa\\xc3\\xa7\\xc3\\xa3o Flor\\ndo Brasil\\nP. A. Diamante\\nFaz. Arapari/Acamp. Nova Vit\\xc3\\xb3ria\\nTerrit\\xc3\\xb3rio Quilombola do\\nJambua\\xc3\\xa7u\\nPAE Lago Grande/Com.\\nAldeia/Jacarecap\\xc3\\xa1/Passagem e\\noutras\\nAssent. Praia Alta\\nPiranheira/Cupu/Passe\\nBem/Mamona\\nPDS Terra Nossa\\nFloresta Nacional do Jamanxim\\nFloresta Nacional do\\nJamanxim/Acamp. Assoc. Bom\\nFuturo\\nT. I. Zo\\'\\xc3\\xa9\\nCom. Quilombola Boa Vista e\\nOutras/Empresa Minera\\xc3\\xa7\\xc3\\xa3o Rio\\ndo Norte\\nCom. Ribeirinha do\\nAcari/Madeireiras Ebata e Golf\\nPAE Sapucu\\xc3\\xa1Trombetas/Madeireiras Ebata e\\nGolf\\nFloresta Nacional de Sarac\\xc3\\xa1Taquera\\n\\n3000\\n\\n788\\n\\n8500\\n\\n250000\\n\\n332\\n300\\n\\n22000\\n\\n200\\n75 668565,63\\n\\n500\\n\\n40\\n\\n800\\n\\n67749\\n429600\\n\\n70\\n250\\n\\n3000\\n22800\\n\\nT.I. Alto Rio Guam\\xc3\\xa1/Temb\\xc3\\xa9\\nT. I. Xikrin do Catet\\xc3\\xa9\\n\\n300\\n325\\n\\n279000\\n1650939\\n\\n1250\\n450\\n\\n1750\\n86\\n\\nRio Maria\\nRondon do Par\\xc3\\xa1\\nRur\\xc3\\xb3polis\\nSalvaterra\\nSalvaterra\\n\\nCom. Quilombola Mangueiras\\n\\nPau d Arco\\n\\n82\\n\\nFazenda Mil e Duzentos\\nFazenda Oriente\\n\\nFaz. Caraj\\xc3\\xa1s/P.A. Palmares I e\\nII/Assent. Carlos Fonseca/CVRD\\nVila Cedere 01\\nFaz. Santa L\\xc3\\xbacia/Acamp. Nova\\nVida/Jane J\\xc3\\xbalia\\nAssassinato de Carlos Cabral\\nPereira\\nFazenda Tr\\xc3\\xaas Lagoas\\nPAC Araipacupu\\nCom. Quilombola Boa Vista\\n\\nParauapebas\\nParauapebas\\n\\n40\\n\\n200 5662,8\\n\\n10\\n361\\n42\\n\\n1767\\n31112\\n\\n\\x0cSalvaterra\\n\\nCom. Quilombola Provid\\xc3\\xaancia\\n\\nSalvaterra\\nSalvaterra\\n\\nCom. Quilombola Deus Ajude\\nCom. Quilombola Siricari\\nCom. Ribeirinha das Terras do\\nTaisou\\n\\nSanta Cruz do Arari\\nSanta Maria das\\nBarreiras\\nFaz. Pontal/Acamp. Lagoa Azul\\nSanta Maria das\\nBarreiras/ Cumaru do\\nNorte\\nGleba 490\\n\\n100\\n\\n80\\n\\n3000\\n\\nSantana do Araguaia\\n\\nFazenda Ouro Verde\\n\\n153\\n\\n4500\\n\\nSantana do Araguaia\\n\\nParte da Faz. Vale do Rio\\nCristalino/Agrop. Sta. B\\xc3\\xa1rbara\\n\\n100\\n\\nSantana do Araguaia/ Faz. Estrela de Macei\\xc3\\xb3/Acamp.\\nCumaru do Norte\\nCangaia-Brilhante\\nT. I. Munduruku/Planalto\\nSantar\\xc3\\xa9m\\nSantareno\\nSantar\\xc3\\xa9m\\nFlona Tapaj\\xc3\\xb3s\\nSantar\\xc3\\xa9m\\nCom. Quilombola Tiningu\\nGl. Pacoval/CortaCorda/Raisan/PDS Sta. Clara/PAE\\nSantar\\xc3\\xa9m/ Prainha\\nCuru\\xc3\\xa1 II\\nComplexo Divino Pai\\nS\\xc3\\xa3o F\\xc3\\xa9lix do Xingu\\nEterno/Acamp. Novo Oeste\\nS\\xc3\\xa3o F\\xc3\\xa9lix do Xingu/\\nAltamira\\n\\nT. I.\\nApyterena/Apyterewa/Parakan\\xc3\\xa3\\n\\nS\\xc3\\xa3o F\\xc3\\xa9lix do Xingu/\\nAltamira\\nS\\xc3\\xa3o F\\xc3\\xa9lix do Xingu/\\nAltamira/ Anapu\\n\\n\\xc3\\x81rea de Prote\\xc3\\xa7\\xc3\\xa3o Ambiental-APA\\nTriunfo do Xingu/Terra do Meio\\nE. Eco. Terra do Meio/Serra do\\nPardo\\nT. I. Trincheira-Bacaj\\xc3\\xa1/\\xc3\\x8dndios\\nS\\xc3\\xa3o F\\xc3\\xa9lix do Xingu/\\nXikrin/UHE Belo\\nAltamira/ Anapu/\\nMonte/Mineradora Belo\\nSenador Jos\\xc3\\xa9 Porf\\xc3\\xadrio Sun/PAC\\n\\n5447\\n\\n70\\n\\n400\\n150\\n1000 549066,87\\n90\\n\\n460\\n\\n24000\\n\\n147\\n\\n8400\\n\\n176\\n\\n773000\\n\\n2000 1679280,5\\n\\n187\\n\\n1655000\\n\\nS\\xc3\\xa3o F\\xc3\\xa9lix do Xingu/\\nTucum\\xc3\\xa3/ Cumaru do\\nNorte/ Ouril\\xc3\\xa2ndia do\\nNorte\\nT. I. Kayap\\xc3\\xb3\\n\\n907\\n\\n3284005\\n\\nS\\xc3\\xa3o Jo\\xc3\\xa3o do Araguaia Fazenda Landi\\n\\n80\\n\\n1800\\n\\nS\\xc3\\xa3o Jo\\xc3\\xa3o do Araguaia P. A. Pimenteira\\nS\\xc3\\xa3o Jo\\xc3\\xa3o do Araguaia/\\nBom Jesus do\\nT.I. M\\xc3\\xa3e Maria/\\xc3\\x8dndios\\nTocantins\\nGavi\\xc3\\xb5es/Ferrovia Caraj\\xc3\\xa1s/CVRD\\n\\n135\\n\\n3468\\n\\n300\\n\\n\\x0cGl. Bacaja\\xc3\\xad/T. I. Arara da Volta\\nSenador Jos\\xc3\\xa9 Porf\\xc3\\xadrio Grande do Xingu\\n\\n37\\n\\n25500\\n\\nTom\\xc3\\xa9-A\\xc3\\xa7u\\n\\nT. I. Temb\\xc3\\xa9/Tur\\xc3\\xa9-Mariquita I e II\\n\\n47\\n\\n1816\\n\\nTrair\\xc3\\xa3o\\n\\nP. A. Areia II/Com. S\\xc3\\xa3o Mateus\\n\\n300\\n\\nTucuru\\xc3\\xad/ Bai\\xc3\\xa3o\\n\\nP. A Salvador Allende Piratininga\\nPDS Santa Clara/Com. B\\xc3\\xaan\\xc3\\xa7\\xc3\\xa3o de\\nDeus\\n\\n137\\n\\n1500\\n\\n230\\n\\n23909\\n\\n75\\n30043\\n\\n13625373\\n\\nUruar\\xc3\\xa1\\nUruar\\xc3\\xa1/ Altamira/\\nRur\\xc3\\xb3polis/\\nMedicil\\xc3\\xa2ndia\\nSubtotal = 102\\n\\nT. I. Cachoeira Seca do Iriri/\\xc3\\x8dndios\\nArara/UHE Belo Monte/Belo Sun\\nMineradora/PAC\\n\\nMunic\\xc3\\xadpios\\n\\nAlhandra/ Conde/\\nPitimbu\\nCaapor\\xc3\\xa3\\n\\nNome do Conflito\\nFaz. Garapu/Acamp. D. Jos\\xc3\\xa9\\nMaria Pires\\nDestilaria Tabu-Grupo Jo\\xc3\\xa3o\\nSantos/Emp. Elizabethy/T. I.\\nTabajara\\nFazenda Ouro Verde\\n\\nCacimbas\\n\\nCom. Quilombolas Ch\\xc3\\xa3 e Aracati\\n\\n30\\n\\nCuit\\xc3\\xa9\\nDami\\xc3\\xa3o\\nGuarabira\\nJo\\xc3\\xa3o Pessoa\\n\\n500\\n23\\n\\nMana\\xc3\\xadra\\nMogeiro\\n\\nCom. Serra do Bom Bocadinho\\nComunidade Ch\\xc3\\xa3 da Tapioca\\nS\\xc3\\xadtio Santa Am\\xc3\\xa9lia\\nFazenda Ponta de Gramame\\nCom. Ribeirinha Porto do\\nCapim/Vila Nassau\\nComunidade Quilombola\\nFonseca\\nFazenda Para\\xc3\\xadso\\n\\nNova Palmeira\\n\\nCom. Quilombola Serra do Abreu\\n\\n70\\n\\nPedras de Fogo\\nPilar\\nSanta Luzia\\n\\nMamoaba Agro Pastoril\\nS/A/Acamp. Arcanjo Belarmino\\nFazenda Para\\xc3\\xadso\\nCom. Serra de Santa Luzia\\n\\n200\\n51\\n800\\n\\nPara\\xc3\\xadba\\n\\nAlhandra\\n\\nJo\\xc3\\xa3o Pessoa\\n\\nS\\xc3\\xa3o Jo\\xc3\\xa3o do Tigre\\n\\nFam\\xc3\\xadlias \\xc3\\x81rea\\n300\\n\\n5000\\n\\n250\\n37\\n\\n10000\\n350\\n\\n53\\n\\n400\\n\\n162\\n42\\n27\\n\\n700\\n\\n400\\n\\nCom. Quilombola Cacimba Nova\\nCom. Redinha/Parque E\\xc3\\xb3lico\\nCanoas\\n\\n80\\n\\nS\\xc3\\xa3o Jos\\xc3\\xa9 dos Ramos\\nSap\\xc3\\xa9\\nSubtotal = 19\\n\\nFaz. S\\xc3\\xa3o Jos\\xc3\\xa9/Pau-a-Pique\\nS\\xc3\\xadtio V\\xc3\\xa1rzea Grande\\n\\n70\\n\\n1100\\n\\n2753\\n\\n17950\\n\\nMunic\\xc3\\xadpios\\n\\nNome do Conflito\\n\\nS\\xc3\\xa3o Jos\\xc3\\xa9 do Sabugi\\n\\n58\\n\\nPernambuco\\nFam\\xc3\\xadlias \\xc3\\x81rea\\n\\n\\x0cAlian\\xc3\\xa7a\\nCabo de Santo\\nAgostinho\\nCabo de Santo\\nAgostinho\\nCabo de Santo\\nAgostinho\\nCabrob\\xc3\\xb3\\nCaruaru\\nCaruaru/ Bel\\xc3\\xa9m de\\nMaria\\nGameleira/ Ribeir\\xc3\\xa3o\\nGaranhuns\\nGoiana\\nIpojuca\\nIpojuca\\nJaqueira\\nJaqueira\\nJaqueira\\n\\nJaqueira\\nJaqueira\\nJatob\\xc3\\xa1\\nLagoa Grande\\nMoreno\\n\\nEng. S\\xc3\\xa3o Bento/Dois Rios II/Us.\\nMaravilha\\n\\n60\\n\\nEng. Serraria/Complexo Suape\\n\\n9\\n\\nEng. Jasmim/Complexo Suape\\nEng. Ilha/Complexo\\nSuape/Vazamento de \\xc3\\x93leo\\nCom. Jatob\\xc3\\xa1/Transposi\\xc3\\xa7\\xc3\\xa3o do Rio\\ns\\xc3\\xa3o Francisco\\nFaz. Normandia/Assent. Che\\nGuevara\\n\\n330\\n\\n347\\n\\n250\\n\\n1000\\n\\nFazenda Bananeiras\\nAssent. Alegre/S\\xc3\\xa3o Greg\\xc3\\xb3rio/Us.\\nEstreliana\\nQuilombo Castainho\\nEng. Belo Horizonte/Us.\\nMaravilha\\n\\n150\\n\\nEng. Tabatinga/Complexo Suape\\nCom. Vila do Campo/Casa do\\nGovernador\\nEng. Col\\xc3\\xb4nia I/Barro Branco/Us.\\nFrei Caneca\\n\\n150\\n\\n919\\n\\n40\\n\\n110\\n\\n77\\n\\n2000\\n\\nEng. Fervedouro/Us. Frei Caneca\\nCom. do Eng. Col\\xc3\\xb4nia\\nII/Laranjeira/Us. Frei Caneca\\n\\n71\\n\\n560\\n\\n48\\n\\n207\\n\\nEngenho V\\xc3\\xa1rzea Velha/Us. Frei\\nCaneca/Neg\\xc3\\xb3cios Imobili\\xc3\\xa1ria S/A\\nEng. Caixa d\\' \\xc3\\x81gua/V\\xc3\\xa1rzea\\nVelha/Us. Frei Caneca\\nCom. Bem Querer de Baixo/T.I.\\nPankararu\\nFazenda Riacho Fundo\\nEng. Xixaim/ Acamp. Margarida\\nAlves\\n\\nPetrol\\xc3\\xa2ndia/ Tacaratu T. I. Pankararu\\nProj. Irriga\\xc3\\xa7\\xc3\\xa3o Nilo Coelho/M\\xc2\\xaa\\nPetrolina\\nTereza/Codevasf\\nS\\xc3\\xa3o Joaquim do\\nMonte\\nFaz. Jabuticaba/4 Irm\\xc3\\xa3os\\nCom. Pesqueiras/Rio\\nSirinha\\xc3\\xa9m\\nSirinhah\\xc3\\xa9m/Us. Trapiche\\nTamandar\\xc3\\xa9\\nEngenho Canoinha\\nTimba\\xc3\\xbaba\\nEng. Beleza/Us. Cruangi\\nSubtotal = 26\\n\\n160\\n41\\n\\n200\\n450\\n\\nNome do Conflito\\n\\n300\\n40\\n\\n450\\n\\n70\\n80\\n75\\n250\\n55\\n\\n100\\n\\n917\\n\\n8100\\n\\n300\\n\\n4000\\n\\n45\\n\\n65\\n80\\n4423\\n\\nPiau\\xc3\\xad\\nMunic\\xc3\\xadpios\\n\\n1100\\n\\nFam\\xc3\\xadlias \\xc3\\x81rea\\n\\n800\\n19583\\n\\n\\x0cBaixa Grande do\\nRibeiro\\nBom Jesus\\n\\nComunidade Morro d\\' \\xc3\\x81gua\\nComunidade Corrente dos\\nMat\\xc3\\xb5es\\n\\n41\\n\\nBom Jesus/ Gilbu\\xc3\\xa9s\\n\\nCom. Melancias/Morro d\\'\\n\\xc3\\x81gua/Gata/Barra do\\nCorrentina/Riacho dos\\nCavalos/Brejo das \\xc3\\x89guas/Serra\\nPartida/Assent. Rio Preto\\n\\n41\\n\\nCristino Castro\\nCurral Novo do Piau\\xc3\\xad\\nEsperantina\\nIsa\\xc3\\xadas Coelho/\\nCampinas do Piau\\xc3\\xad\\nPaulistana\\nPaulistana\\nSanta Filomena\\nTeresina\\nSubtotal = 11\\n\\nComunidade de V\\xc3\\xa3o de Santana\\nCom. Baixio dos\\nBelos/Mineradora Bemisa\\nAssentamento Data Coit\\xc3\\xa9/Vila\\nEsperan\\xc3\\xa7a\\nCom. Quil. Sabonete/Rio Canind\\xc3\\xa9\\nCom. Quill.\\nContente/Transnordestina\\nComunidade Barro Vermelho\\n\\xc3\\x81rea em Chup\\xc3\\xa9/Grupo\\nPompeu/JAP\\nAssent. Jacarand\\xc3\\xa1/Povoado\\nTap\\xc3\\xbaia\\n\\n9\\n\\n1200\\n\\n8\\n24\\n\\n47\\n47\\n21\\n13\\n45\\n296\\n\\n1200\\n\\nParan\\xc3\\xa1\\nMunic\\xc3\\xadpios\\nAlvorada do Sul\\nCascavel\\nCascavel\\n\\nCastro\\nCenten\\xc3\\xa1rio do Sul\\nClevel\\xc3\\xa2ndia\\nClevel\\xc3\\xa2ndia\\nClevel\\xc3\\xa2ndia\\n\\nClevel\\xc3\\xa2ndia\\n\\nGua\\xc3\\xadra\\nGua\\xc3\\xadra\\nGua\\xc3\\xadra\\n\\nNome do Conflito\\nFam\\xc3\\xadlias \\xc3\\x81rea\\nFaz. Palheta/Acamp. Ester\\nFernandes/Atalla\\n50\\nFazenda Jangadinha\\n11\\nComplexo Cajati/ Assent. Valmir\\nMota\\n200\\nFaz. Cap\\xc3\\xa3o Cip\\xc3\\xb3/Funda\\xc3\\xa7\\xc3\\xa3o\\nABC/Acamp. Maria Rosa do\\nContestado\\n200\\nFazenda Quem Sabe/Assent.\\nMaria Lara\\n40\\nFazenda Tr\\xc3\\xaas Cap\\xc3\\xb5es/Olvepar\\nFazenda Morro Alto/Olvepar\\nFaz. S\\xc3\\xa3o Francisco/Acamp. Terra\\nLivre/Olvepar\\nFaz. Moraes/Madereira Campos\\nde Palmas/Acamp. M\\xc3\\xa3e dos\\nPobres 2\\nT. I. Guarani Mbya/Tekoh\\xc3\\xa1\\nMarangatu/Guasu Guavir\\xc3\\xa1/Itaipu\\nT. I. Guarani Mbya/Tekoh\\xc3\\xa1\\nMirim/Guasu Guavir\\xc3\\xa1/Itaipu\\nT. I. Guarani Mbya/Tekoh\\xc3\\xa1\\nYhovy/Guasu Guavir\\xc3\\xa1/Itaipu\\n\\n3185\\n\\n300\\n468\\n\\n15\\n30\\n\\n97\\n114\\n\\n24\\n\\n200\\n\\n61\\n10\\n21\\n\\n\\x0cGua\\xc3\\xadra\\n\\nGua\\xc3\\xadra\\nGua\\xc3\\xadra\\n\\nGua\\xc3\\xadra\\n\\nGua\\xc3\\xadra\\nGua\\xc3\\xadra\\n\\nT. I. Guarani Mbya/Tekoh\\xc3\\xa1 Ara\\nPor\\xc3\\xa3/Guasu Guavir\\xc3\\xa1/Itaipu\\nT. I. Guarani Mbya/Tekoh\\xc3\\xa1\\nKarumbe\\'y/Guasu Guavir\\xc3\\xa1/Itaipu\\nT. I. Guarani Mbya/Tekoh\\xc3\\xa1\\nJevy/Guasu Guavir\\xc3\\xa1/Itaipu\\nT. I. Guarani Mbya/Tekoh\\xc3\\xa1\\nGuarani/Emp. Mate\\nLaranjeira/Itaipu\\nT. I. Guarani Mbya/Tekoh\\xc3\\xa1\\nTatury/Mineradora\\nAndreis/Itaipu\\nPorto Paragem/Loteamento\\nBacia/Ibama\\n\\n36\\n\\n21\\n69\\n\\n15\\n\\n8\\n21\\n\\nOrtigueira/ Faxinal\\nPalmas\\nPinh\\xc3\\xa3o\\n\\nFaz. Pinho Fleck/Olvepar/Acamp.\\nSete Povos das Miss\\xc3\\xb5es\\nFaz. Chopim II/Olvepar\\nT. I. Av\\xc3\\xa1 Guarani/Tekoh\\xc3\\xa1 Yva\\nRenda/Itaipu Binacional\\nFazenda Prudentina/Acamp. Jos\\xc3\\xa9\\nRodrigues\\nFazenda Gasparetto\\nFazenda Trento\\n\\xc3\\x81rea do CTG\\nFaz. Mar\\xc3\\xadlia/Acamp. Quilombo\\ndos Palmares\\nFaz. Ronda/Invernada do\\nNardo/Acamp. Uni\\xc3\\xa3o pela\\nTerra/Olvepar\\nFaz. Santa Luzia/Acamp. Santa\\nRita\\nFaz. Nova Jerusal\\xc3\\xa9m/\\xc3\\x81rea\\nPr\\xc3\\xb3xima ao Assent. Nova\\nJerusal\\xc3\\xa9m\\nFaz. Nossa Sra. do\\nCarmo/Brasileira/Acamp. Maila\\nSabrina\\nFaz. Sta. Maria/T. I. Kaingang\\nFaxinal Bom Retiro\\n\\nPinh\\xc3\\xa3o\\n\\nVila Alecrim/Madeireira Zattar\\n\\n100\\n\\nPorecatu\\n\\nFaz. Variante/Acamp. Fidel\\nCastro/Us. Central/Grupo Atalla\\n\\n400\\n\\nHon\\xc3\\xb3rio Serpa\\nHon\\xc3\\xb3rio Serpa\\nItaipul\\xc3\\xa2ndia\\nLaranjal\\nLindoeste\\nLindoeste\\nLindoeste\\nLondrina\\n\\nMangueirinha\\nMariluz\\n\\nNova Cantu\\n\\nQuer\\xc3\\xaancia do Norte\\nQuer\\xc3\\xaancia do Norte\\nRoncador\\n\\nFazenda S\\xc3\\xa3o Francisco/Acamp.\\nCompanheiro S\\xc3\\xa9timo Garibaldi\\nFaz. \\xc3\\x81gua do Bugre/Acamp.\\nValdair Roque\\nFazenda Rio Azul\\n\\n24\\n24\\n\\n500\\n200\\n\\n15\\n54 852,9\\n15 382,36\\n40\\n15\\n167\\n\\n2000\\n\\n200\\n\\n19\\n9\\n\\n5\\n\\n400\\n150\\n10 145,2\\n\\n4400\\n90\\n\\n50\\n40\\n50\\n\\n105\\n\\n\\x0cSanta Helena\\nSanta Helena\\n\\nSanta Helena\\nTamarana\\n\\nT. I. Ava Guarani/Tekoha Mokoi\\nJoegua - Dois Irm\\xc3\\xa3os/Itaipu\\nBinacional\\nT.I. Av\\xc3\\xa1 Guarani/Tekoha\\nPyhau/Itaipu binacional\\nT. I. Av\\xc3\\xa1 Guarani/Tekoha Curva\\nGuarani /Itaipu Binacional\\nFaz. Tamarana/parte da \\xc3\\xa1rea T.I.\\nKaingang\\n\\nTerra Roxa\\n\\nT. I. Guarani Mbya/Tekoha\\nAraguajy/Guasu Guavir\\xc3\\xa1/Itaipu\\nT. I. Guarani Mbya/Tekoh\\xc3\\xa1\\nAraguaju/P\\xc3\\xb4r do Sol/Itaipu\\nT. I. Guarani Mbya/Tekoh\\xc3\\xa1\\nYvyraty Por\\xc3\\xa3/Faz. S\\xc3\\xa3o\\nPaulo/Itaipu\\nT. I. Guarani Mbya/Tekoh\\xc3\\xa1\\nNhemboete/Guasu\\nGuavir\\xc3\\xa1/Itaipu\\n\\nTerra Roxa\\n\\nT. I. Guarani Mbya/Tekoh\\xc3\\xa1 Poh\\xc3\\xa3\\nRenda/Guasu Guavir\\xc3\\xa1/Itaipu\\n\\nTerra Roxa\\nTerra Roxa\\n\\nTerra Roxa\\n\\nTerra Roxa\\nSubtotal = 47\\n\\nT. I. Guarani Mbya/Tekoh\\xc3\\xa1 Tajy\\nPoty/Guasu Guavir\\xc3\\xa1/Itaipu\\n\\n20\\n12\\n\\n14\\n50\\n\\n100\\n36\\n\\n36\\n\\n6\\n\\n25\\n\\n7\\n2725\\n\\n13239\\n\\nRio de Janeiro\\nMunic\\xc3\\xadpios\\nNome do Conflito\\nFam\\xc3\\xadlias \\xc3\\x81rea\\nCampos dos\\nGoytacazes/ S\\xc3\\xa3o Jo\\xc3\\xa3o Com. \\xc3\\x81gua Preta/Complexo\\nda Barra\\nPortu\\xc3\\xa1rio A\\xc3\\xa7u/Minas-Rio/PAC\\n15\\nDuque de Caxias/\\nNova Igua\\xc3\\xa7u\\nAssent. Terra Prometida/Tingu\\xc3\\xa1\\n60\\nMaca\\xc3\\xa9\\nFazenda Bom Jardim\\n63\\nAcamp. Edson Nogueira/\\nMaca\\xc3\\xa9\\nUnidade Pedag\\xc3\\xb3gica\\n150\\nFaz. Santa Justina/Acamp. Olga\\nMangaratiba\\nBen\\xc3\\xa1rio\\n57\\nNiter\\xc3\\xb3i\\nCol\\xc3\\xb4nia de Pescadores Z-7\\n9\\nComun. Pesqueira da Praia Bom\\nNiter\\xc3\\xb3i\\nSossego\\n5\\nRio de Janeiro/\\nNiter\\xc3\\xb3i\\nAldeia do Imbuhy\\n28\\nSubtotal = 8\\n387\\nRio Grande do\\nNorte\\nMunic\\xc3\\xadpios\\nAfonso Bezerra\\n\\nNome do Conflito\\nFam\\xc3\\xadlias \\xc3\\x81rea\\n\\xc3\\x81rea do Estado/Acamp. Ant\\xc3\\xb4nio\\nBatista\\n100\\n\\n1600\\n\\n850\\n\\n3150\\n5600\\n\\n\\x0cJo\\xc3\\xa3o C\\xc3\\xa2mara\\nS\\xc3\\xa3o Gon\\xc3\\xa7alo do\\nAmarante\\nTouros/ S\\xc3\\xa3o Miguel\\ndo Gostoso\\nSubtotal = 4\\n\\nFaz. Baixa Verde/Pecol\\nAgropecu\\xc3\\xa1ria\\nParque Nac. das Nascentes/Rio\\nGolandim\\nAcampamento Maria Aparecida\\n\\n60\\n\\n800\\n\\n300\\n32\\n492\\n\\n800\\n\\nRond\\xc3\\xb4nia\\nMunic\\xc3\\xadpios\\n\\nNome do Conflito\\n\\nAlta Floresta do Oeste Fazenda Surubim\\nAcamp. Che Guevara/Faz. Sol\\nAlto Alegre do Parecis Nascente\\nAcamp. Cana\\xc3\\xa3/Faz. Arroba/S\\xc3\\xb3\\nAriquemes\\nCacau\\nFaz. Cauan/Galhardi/Acamp.\\nRaio do Sol/Linha C-19/Trav. 1 da\\nAriquemes\\nLinha 45\\nAriquemes\\nAriquemes\\nAriquemes\\n\\nAcamp. S\\xc3\\xa3o Francisco/RO-257\\nGl. Burareiro/Lote 160/Km52/Faz. Normann\\n\\nAcampamento Renato Nathan 2\\nFaz. Lourinho/P. A. Santa\\nBuritis\\nHelena/Linha 02\\nBuritis/ Campo Novo Faz. Cinco Estrelas e Rio\\nde Rond\\xc3\\xb4nia\\nAzul/Acamp. Jacin\\xc3\\xb3polis II\\nAcamp. Igarap\\xc3\\xa9 Preto/Faz. do\\nCabixi\\nGauxinho\\nCacoal\\nT. I. Sete de Setembro\\nCampo Novo de\\nRond\\xc3\\xb4nia\\nP. A. Nova Floresta\\nCampo Novo de\\nRond\\xc3\\xb4nia/ Guajar\\xc3\\xa1Mirim/ Mirante da\\nSerra/ Costa\\nMarques/ Jaru/\\nAlvorada do Oeste/\\nGovernador Jorge\\nTeixeira/ Nova\\nMamor\\xc3\\xa9/\\nCacaul\\xc3\\xa2ndia/\\nT. I. Uru-Eu-Wau-Wau\\nAgrop. Rio Candeias/Faz.\\nUrup\\xc3\\xa1/Assent. Flor do\\nCandeias do Jamari\\nAmazonas/Acamp. Boa Sorte\\nCandeias do Jamari\\nPAF Jequitib\\xc3\\xa1\\nCandeias do Jamari\\nCom. Ramal S\\xc3\\xa3o Sebasti\\xc3\\xa3o\\nLote 105/P. A. Flor do Amazonas\\nCandeias do Jamari\\n2\\nCandeias do Jamari\\nP. A. Rio Preto do Candeias\\nCerejeiras\\nGleba Guapor\\xc3\\xa9/Lote 167\\n\\nFam\\xc3\\xadlias \\xc3\\x81rea\\n\\n130\\n200\\n\\n3800\\n\\n40\\n\\n1000\\n\\n67\\n12\\n40\\n20\\n40\\n\\n1500\\n\\n80\\n345\\n\\n248000\\n\\n34\\n\\n115\\n\\n1867117\\n\\n80\\n514\\n47\\n\\n33000\\n133000\\n2000\\n\\n700\\n\\n\\x0cCerejeiras\\n\\n\\xc3\\x81rea do Lix\\xc3\\xa3o/Fundo do Parque\\nInd. Aur\\xc3\\xa9lio Miliioran\\xc3\\xa7a/Assoc.\\ndos Peq. Prod. Rurais Nossa Sra.\\nAparecida\\n\\nGleba Corumbiara/Lote 52/Setor\\nChupinguaia\\n07/Assoc. Nossa Sra. Aparecida\\nFaz. Estrela/Pai Her\\xc3\\xb3i/Lotes 52 e\\n53/Linhas 80 e 85/Gl.\\nCorumbiara/Assoc. Nossa Sra.\\nChupinguaia/ Vilhena Aparecida\\nAcamp. Manoel Ribeiro/Faz.\\nZC/Gl. Corumbiara/Lote\\nCorumbiara\\n100/Linha 155/Setor 110\\nCosta Marques\\n\\n25\\n\\n107\\n\\n50\\n\\n50\\n\\n2023\\n\\n12\\n\\n1452\\n\\nCujubim\\nEspig\\xc3\\xa3o do Oeste\\n\\nCom. Quilombola de Santa F\\xc3\\xa9\\nLinha 106/Regi\\xc3\\xa3o Soldado da\\nBorracha\\nReserva Ind\\xc3\\xadgena Roosevelt\\n\\n240\\n\\nGuajar\\xc3\\xa1-Mirim\\nJi-Paran\\xc3\\xa1\\n\\nRamal do Bom Sossego/Km 22\\nT. I. Igarap\\xc3\\xa9 Lourdes\\n\\n60\\n246\\n\\nMachadinho D Oeste Fazenda Jatob\\xc3\\xa1\\n\\n30\\n\\nMachadinho D Oeste Resex Aquariquara\\nFaz. na Linha 70/\\xc3\\x81rea\\nMirante da Serra\\nRevolucion\\xc3\\xa1ria Paulo Bento\\n\\n91\\n\\nMirante da Serra\\n\\nAssentamento Padre Ezequiel\\nFaz. Padre C\\xc3\\xadcero/Acamp. Monte\\nVerde\\n\\n193\\n\\nAcamp. \\xc3\\x89lcio Machado/Linha A2\\n\\n300\\n\\nAcampamento Paulo Freire 2\\n\\n45\\n\\nMonte Negro\\nMonte Negro\\nNova Brasil\\xc3\\xa2ndia do\\nOeste\\n\\nAcamp. Dois Irm\\xc3\\xa3os/Dois\\nNova Mamor\\xc3\\xa9\\nAmigos/Faz. do Bispo/Linha 29 C\\nAcamp. Conquista/Faz.\\nPrimavera/Gleba Buriti/Distrito\\nNova Mamor\\xc3\\xa9\\nde Jacin\\xc3\\xb3polis\\nLote 30-A/Gleba 7/Projeto\\nIntegrado de Coloniza\\xc3\\xa7\\xc3\\xa3o Ouro\\nOuro Preto do Oeste Preto\\n\\nPimenta Bueno\\nPimenta Bueno\\nPimenta Bueno\\nPimenteiras\\n\\nLote 58/Setor 07/Linha 85/Bar\\xc3\\xa3o\\nde Melga\\xc3\\xa7o/Gl. Corumbiara\\nFaz.Tri\\xc3\\xa2ngulo/El Karana\\nFazenda Santo Expedito\\nFaz. Nova Zel\\xc3\\xa2ndia/Gl. Santa\\nRosa/Linha 11\\n\\n186000\\n\\n18100\\n\\n60\\n6031\\n\\n90\\n\\n6400\\n\\n105\\n\\n38\\n\\n15\\n\\n38\\n6\\n4\\n43\\n\\n2700\\n\\n\\x0cPorto Velho\\n\\n\\xc3\\x81rea do Milit\\xc3\\xa3o/Setor Chacareiro\\n\\n600\\n\\nPorto Velho\\n\\nRio das Gar\\xc3\\xa7as/Faz.\\nAlexandria/Acamp. S\\xc3\\xa3o Cristov\\xc3\\xa3o\\n\\n418\\n\\nPorto Velho\\nPorto Velho\\n\\nFaz. Camim/Camia/Kamias/Linha\\nG da F/Acamp. Fruto da Terra\\nGl. Rio Gar\\xc3\\xa7as/Col\\xc3\\xb4nia Areia\\nBranca/Lote 4\\nAcamp. Linha 5/Distrito\\nBandeirantes\\nLinha C-10/Km 32\\n\\nPorto Velho/ Alto\\nPara\\xc3\\xadso\\n\\nAcamp. Nova Esperan\\xc3\\xa7a/Boa\\nEsperan\\xc3\\xa7a/T\\xc3\\xadtulo Definitivo S\\xc3\\xa3o\\nSebasti\\xc3\\xa3o/Flona Bom Futuro\\n\\nPorto Velho/ Campo\\nNovo de Rond\\xc3\\xb4nia/\\nNova Mamor\\xc3\\xa9\\n\\nResex Jaci-Paran\\xc3\\xa1\\n\\nPorto Velho\\nPorto Velho\\n\\nPorto Velho/ Guajar\\xc3\\xa1Mirim/ Nova Mamor\\xc3\\xa9 T. I. Karipuna\\nAcamp. Bacuri/Linha 105/C95/Km 30/Gl. Burareiro/Lotes\\nRio Crespo\\n14, 15, 16/Gl. 01\\nS\\xc3\\xa3o Francisco do\\nCom. Quilombola de Pedras\\nGuapor\\xc3\\xa9\\nNegras/Resex\\nS\\xc3\\xa3o Miguel do\\nCom. Quilombola do Senhor\\nGuapor\\xc3\\xa9\\nJesus\\nFaz. Riacho Doce/Acamp. Paulo\\nSeringueiras\\nFreire 4\\nFaz. Bom Futuro/Acamp. Enilson\\nSeringueiras\\nRibeiro\\nSeringueiras\\nP. A. Riacho Doce\\nLotes 62, 63, 64/S\\xc3\\xadtio 90-A/Linha\\n85/Setor 08/Faz. Vilhena/Gl.\\nVilhena\\nCorumbiara\\nVilhena\\nP. A. \\xc3\\x81guas Claras\\n\\nVilhena\\n\\nVilhena\\nVilhena\\nVilhena\\nVilhena\\nSubtotal = 64\\n\\nGl. Corumbiara/Setor 12/Lote\\n52/Faz. Duarte/Assoc. Canarinho\\nGlebas Iqu\\xc3\\xaa e\\nPesqueira/Cooperativa\\nCooperfrutas\\nLote 52 /Linha 85/Setor 07\\nLinha 115/Lote 25/Gl.\\nCorumbiara\\nAcamp. Flor da Serra\\n\\n35\\n\\nNome do Conflito\\n\\n2000\\n\\n60\\n58\\n\\n419\\n\\n191234\\n\\n58\\n\\n152930\\n\\n66\\n20\\n8\\n\\n5627\\n\\n75\\n\\n2480\\n\\n400\\n75\\n\\n11000\\n\\n70\\n64\\n\\n50\\n\\n150\\n40\\n\\n64\\n7042\\n\\nRoraima\\nMunic\\xc3\\xadpios\\n\\n900\\n\\nFam\\xc3\\xadlias \\xc3\\x81rea\\n\\n1052\\n\\n2879346\\n\\n\\x0cAlto Alegre\\nAlto Alegre\\nAmajari\\nAmajari\\nAmajari\\n\\nBoa Vista\\n\\nT.I. Macuxi e Wapixana/ Reserva\\nBoqueir\\xc3\\xa3o\\nAssentamento Novo Planalto\\nMaloca Tr\\xc3\\xaas Cora\\xc3\\xa7\\xc3\\xb5es\\nT. I. Anaro/Maloca do Anaro\\nMaloca Anan\\xc3\\xa1s\\nAssent. Nova Amaz\\xc3\\xb4nia/Faz.\\nBamerindus/Gl. Truaru/ Aldeia\\nLago da Praia\\n\\n116\\n120\\n\\n5000\\n\\n11\\n3\\n\\n547\\n\\n16000\\n\\n36\\n\\n420\\n\\nCant\\xc3\\xa1\\n\\nGleba Murupu/Com. Baixad\\xc3\\xa3o do\\nBem-Te-Vi/Reg. Bom Intento\\nT.I. Wapixana/ Maloca Recanto\\nda Saudade (NS)\\n\\nCant\\xc3\\xa1\\n\\nGleba Tacut\\xc3\\xba/Com. de Ch\\xc3\\xa1caras\\n\\n52\\n\\n127261\\n\\nT.I. Wapixana/ Reserva Muriru\\n\\xc3\\x81rea Cojubim Beira Rio\\nP. A. Cupiuba\\nP. A. Jatapu\\nAssentamento Vila\\nMucaja\\xc3\\xad\\nNova/Sama\\xc3\\xbama\\nFazenda Tocantins/Acamp. Lula\\nMucaja\\xc3\\xad\\nLivre\\nT. I.\\nMucaja\\xc3\\xad/ Alto Alegre/ Yanomami/Apiau\\xc3\\xad/Papiu/Yawarip\\nCaracara\\xc3\\xad\\n\\xc3\\xa9\\nT. I. S\\xc3\\xa3o\\nMarcos/Macuxi/Wapixana/Taure\\nPacaraima\\npang\\nRorain\\xc3\\xb3polis\\nT. I. Pirititi\\nS\\xc3\\xa3o Lu\\xc3\\xads/ S\\xc3\\xa3o Jo\\xc3\\xa3o da\\nBaliza\\nT. I. Waimiri Atroari\\nUiramut\\xc3\\xa3/\\nT. I. Raposa Serra do\\nNormandia/\\nSol/Jawari/Brilho do Sol/S.\\nPacaraima\\nMiguel\\nSubtotal = 20\\n\\n46\\n67\\n36\\n1878\\n\\n800\\n13738\\n\\nBoa Vista\\n\\nCant\\xc3\\xa1/ Bonfim\\nCaracara\\xc3\\xad\\nCaracara\\xc3\\xad\\nCaroebe\\n\\n1\\n100\\n\\n650\\n\\n1142\\n\\n9644975\\n\\n1460\\n13\\n\\n654000\\n40095\\n\\n502\\n\\n6400\\n12530\\n\\n1678800\\n12181739\\n\\nRio Grande do\\nSul\\nMunic\\xc3\\xadpios\\n\\nNome do Conflito\\n\\nCarazinho\\n\\nCom. Kaingang/Parque da Cidade\\nAssentamento Segredo\\nFarroupilha\\nT. I. Nonoai Rio da V\\xc3\\xa1rzea\\nFaz. Ponta do Arado/T. I Guarani\\nMbya\\nQuilombo dos Machados\\n\\xc3\\x81rea da Antiga Fepagro\\n\\nEncruzilhada do Sul\\nNonoai\\nPorto Alegre\\nPorto Alegre\\nTaquari\\nSubtotal = 6\\nSanta Catarina\\n\\nFam\\xc3\\xadlias \\xc3\\x81rea\\n30\\n2067\\n16400\\n7\\n20\\n50\\n107\\n\\n426\\n460\\n19353\\n\\n\\x0cMunic\\xc3\\xadpios\\nAbelardo Luz\\nAraquari/ Balne\\xc3\\xa1rio\\nBarra do Sul\\nCampos Novos/\\nMonte Carlo\\n\\nChapec\\xc3\\xb3\\nItai\\xc3\\xb3polis/ Doutor\\nPedrinho/ Jos\\xc3\\xa9\\nBoiteux/ V\\xc3\\xadtor\\nMeireles/ Ibirama\\nMonte Carlo\\nPalho\\xc3\\xa7a\\nPalho\\xc3\\xa7a\\nPaulo Lopes\\nRio do Campo\\nSubtotal = 10\\n\\nNome do Conflito\\nT. I. Toldo Imbu/Kaingang\\n\\nT.I. Tarum\\xc3\\xa3/Guarani M\\'bya\\nCom. Quilombola Invernada dos\\nNegros\\nT. I. Toldo\\nChimbangue/Kaingang/Sede\\nTrentim\\nT. I. Xokleng Bugio/Duque de\\nCaxias/Ibirama-La Kla\\xc3\\xb1o/B.\\nNorte/Bom Sucesso\\nCom. Quilombola Campo dos Pol\\xc3\\xad\\nT. I. Morro dos\\nCavalos/Itaty/Guarani M\\'Bya\\nT. I. Praia de Fora/Guarani\\nCom. Quilombola Toca de Santa\\nCruz\\n\\xc3\\x81rea da Rohden S.A./Serra do\\nMirador\\n\\nFam\\xc3\\xadlias \\xc3\\x81rea\\n61\\n\\n1965\\n\\n5\\n\\n2172\\n\\n170\\n\\n8000\\n\\n133\\n\\n1963\\n\\n514\\n\\n37108\\n\\n30\\n75\\n4\\n\\n1998\\n\\n38\\n12\\n1042\\n\\n77\\n53283\\n\\nS\\xc3\\xa3o Paulo\\nMunic\\xc3\\xadpios\\nAgudos\\nAraras\\nBarra do Turvo\\nBoa Esperan\\xc3\\xa7a do Sul\\nCastilho\\nCastilho\\nCastilho\\nG\\xc3\\xa1lia\\nIacanga\\nIguape\\nIguape\\nItapetininga\\nItirapina\\nLimeira\\n\\nMiracatu\\nMiracatu\\n\\nNome do Conflito\\nFam\\xc3\\xadlias \\xc3\\x81rea\\nFaz. Tangar\\xc3\\xa1/Marru\\xc3\\xa1\\n25\\nAcamp. Paulo Kageyama/Assent.\\nAraras IV\\n400\\nCom. Quilombola Cedro/Vale do\\nRibeira\\n23\\nFazenda Cachoeirnha\\n\\xc3\\x81rea em Castilho\\nFazenda Rancho do Abrigo\\n\\xc3\\x81rea do CESP/CTG\\nFaz. Para\\xc3\\xadso/Vit\\xc3\\xb3ria/Santa\\nF\\xc3\\xa9/Assent. Luiz Beltrame\\nAcampamento Guaricanga\\nT. I. Ka\\' Aguy Hovy/Guarani\\nMbya/Vale da Ribeira\\n14 Com. Cai\\xc3\\xa7ara na Est. Eco.\\nJur\\xc3\\xa9ia Itatins\\nParque Ecol\\xc3\\xb3gico Municipal\\nManoel Silv\\xc3\\xa9rio\\nAcamp. Tr\\xc3\\xaas de Setembro\\n\\xc3\\x81rea do Horto Florestal de\\nLimeira\\nAldeia Ko\\'e Ju/T.I. Amba\\nPor\\xc3\\xa3/Guarani Mbya/Vale do\\nRibeira\\nT.I. Ka\\' Aguy Mirim/Guarani\\nMbya/Vale da Ribeira\\n\\n29\\n130\\n500\\n80\\n\\n750\\n\\n160\\n\\n18\\n500\\n1000\\n300\\n10\\n\\n35\\n\\n110\\n\\n2000\\n\\n16\\n\\n7200\\n\\n28\\n\\n1000\\n\\n\\x0cT.I. Djaiko - Aty/Guarani Mbya e\\n\\xc3\\x91andeva/Vale do Ribeira\\nFazenda Campininha\\nT. I. Ita\\xc3\\xb3ca/Guarani Mbya e\\nMongagu\\xc3\\xa1\\n\\xc3\\x91andeva\\nPanorama\\nAcamp. Sesp-Bandeirantes\\nRibeir\\xc3\\xa3o Preto\\nAcamp. Plantio Verde\\nRiversul\\nFazenda Can-Can\\nS\\xc3\\xa3o Carlos\\nFazenda Cap\\xc3\\xa3o das Antas\\nT. I. Tenond\\xc3\\xa9\\nS\\xc3\\xa3o Vicente/ S\\xc3\\xa3o\\nPor\\xc3\\xa3/Kaliptory/Guyrapaju/Krukut\\nBernardo do Campo/ u/Tape Miri/Grexak\\xc3\\xa3/Kuaray\\nMongagu\\xc3\\xa1\\nRexak\\xc3\\xa3\\nUbatuba\\nCom. Cai\\xc3\\xa7ara de Ubatumirim\\nUbatuba\\nCom. Cai\\xc3\\xa7ara da Almada\\nUbatuba\\nCom. Cai\\xc3\\xa7ara do Cedro\\nFaz. Eldorado/Acamp. Marielle\\nValinhos\\nVive\\nSubtotal = 28\\nMiracatu\\nMogi-Gua\\xc3\\xa7u\\n\\n10\\n400\\n\\n1000\\n4500\\n\\n22\\n\\n553\\n\\n23\\n216\\n\\n600\\n\\n250\\n\\n15969\\n\\n1000\\n4090\\n\\n1000\\n35767\\n\\nTocantins\\nMunic\\xc3\\xadpios\\n\\nNome do Conflito\\n\\nAlmas\\n\\nComunidade Quilombola Bai\\xc3\\xa3o\\n\\nFam\\xc3\\xadlias \\xc3\\x81rea\\n25\\n\\nLoteamento Caju Manso/Lt.\\n2/Faz. Pinheiro/Com. Gurgueia\\nChaparral Agropecu\\xc3\\xa1ria\\nLtda./Fazenda Chaparral I\\nP. A. Para\\xc3\\xadso\\n\\n23\\n\\n1001\\n\\n40 1356,4\\n127\\n\\n5889\\n\\nFaz. Volta Grande/Assent.\\nManoel Alves Bi\\xc3\\xa9\\n\\n94\\n\\n965\\n\\nBaba\\xc3\\xa7ul\\xc3\\xa2ndia\\n\\nFaz. Aruan\\xc3\\xa3 I, II, III e IV/Taboca\\n\\n70\\n\\nBaba\\xc3\\xa7ul\\xc3\\xa2ndia\\nBarra do Ouro\\n\\nUHE Estreito/Acamp. Ilha Verde\\nGleba Tau\\xc3\\xa1\\n\\n35\\n80\\n\\nBarra do Ouro\\n\\nGleba S\\xc3\\xa3o Jos\\xc3\\xa9/Com. S\\xc3\\xa3o Jos\\xc3\\xa9\\n\\n64\\n\\nAragua\\xc3\\xadna\\nAragua\\xc3\\xadna\\nAragua\\xc3\\xadna\\nAragua\\xc3\\xadna/\\nLuzin\\xc3\\xb3polis/\\nMuricil\\xc3\\xa2ndia\\n\\nBarra do Ouro\\nConcei\\xc3\\xa7\\xc3\\xa3o do\\nTocantins\\nConcei\\xc3\\xa7\\xc3\\xa3o do\\nTocantins\\n\\nGleba Garimpo/Faz.\\nSerrinha/Comunidade Serrinha\\nComunidade Quilombola \\xc3\\x81gua\\nBranca\\nComunidade Quilombola Mat\\xc3\\xb5es\\n\\nCristal\\xc3\\xa2ndia/ Lagoa da T. I. Mata Alagada/Loroty/Faz.\\nConfus\\xc3\\xa3o\\nPlaneta/Krah\\xc3\\xb4 Kanela\\nCrix\\xc3\\xa1s do Tocantins\\nFazenda Consola\\xc3\\xa7\\xc3\\xa3o\\nDarcin\\xc3\\xb3polis\\nAssentamento Destilaria\\n\\n32\\n\\n12000\\n\\n1221\\n\\n35\\n38\\n\\n31\\n200\\n47\\n\\n3761\\n\\n\\x0cFilad\\xc3\\xa9lfia\\n\\nUHE Estreito/Acamp. Dom Bosco\\n\\n35\\n\\nFormoso do Araguaia P.A. Caracol\\nFormoso do Araguaia/\\nLagoa da Confus\\xc3\\xa3o/\\nPi\\xc3\\xbam\\nParque Ind\\xc3\\xadgena do Araguaia\\nFormoso do Araguaia/ Ilha do Bananal/Mata do\\nLagoa da Confus\\xc3\\xa3o/ Mam\\xc3\\xa3o//Ind\\xc3\\xadgenas isolados\\nPi\\xc3\\xbam\\n\"Cara Preta\"\\nGleba S\\xc3\\xadtio Taquari/Faz. Pau\\nGoiatins\\nD\\'\\xc3\\x93leo\\nFaz. P\\xc3\\xa2ntano do\\nPapagaio/Acamp. Clodomir\\nIpueiras\\nSantos de Morais\\nFaz. S\\xc3\\xa3o Joaquim I e II/Ass. \\xc3\\x81gua\\nLuzin\\xc3\\xb3polis\\nBoa\\nFaz. Santa Maria/Gleba\\nNova Olinda\\nAnaj\\xc3\\xa1/Pombas\\nFaz. Recreio/Freitas/Acamp. Bom\\nPalmeirante\\nJesus/Gabriel Filho\\nPorto Alegre do\\nComunidade Quilombola S\\xc3\\xa3o\\nTocantins\\nJoaquim\\nPorto Alegre do\\nTocantins\\nComunidade Quilombola Lajinha\\nS\\xc3\\xa3o Bento do\\nTocantins\\nFazenda Estrela de Davi\\nTocantin\\xc3\\xb3polis/\\nMauril\\xc3\\xa2ndia do\\nT. I. Apinaj\\xc3\\xa9/Apinay\\xc3\\xa9s/UHE Serra\\nTocantins\\nQuebrada/PAC\\nWanderl\\xc3\\xa2ndia\\nFazenda Santa Maria\\nSubtotal = 29\\nTotal = 930\\nFonte: Cedoc Dom Tom\\xc3\\xa1s Balduino - CPT - 14/04/2020\\n\\n127\\n\\n17094\\n\\n875\\n\\n1359000\\n\\n6\\n\\n40\\n\\n2070\\n\\n40\\n\\n3275\\n\\n30 1121,66\\n19 975,29\\n68\\n40\\n80\\n\\n227\\n50\\n2578\\n144692\\n\\n1409729\\n53312543\\n\\n\\x0c'\n"
     ]
    }
   ],
   "source": [
    "print(text)"
   ]
  },
  {
   "cell_type": "code",
   "execution_count": null,
   "metadata": {},
   "outputs": [],
   "source": []
  }
 ],
 "metadata": {
  "kernelspec": {
   "display_name": "Python 3 (ipykernel)",
   "language": "python",
   "name": "python3"
  },
  "language_info": {
   "codemirror_mode": {
    "name": "ipython",
    "version": 3
   },
   "file_extension": ".py",
   "mimetype": "text/x-python",
   "name": "python",
   "nbconvert_exporter": "python",
   "pygments_lexer": "ipython3",
   "version": "3.10.6"
  },
  "vscode": {
   "interpreter": {
    "hash": "18c60dd7fe9d13193a07e489dbf311d1daed841a27c1710c505f842653d32b8c"
   }
  }
 },
 "nbformat": 4,
 "nbformat_minor": 4
}
